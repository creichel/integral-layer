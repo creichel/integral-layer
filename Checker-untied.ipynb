{
 "cells": [
  {
   "cell_type": "code",
   "execution_count": 1,
   "metadata": {},
   "outputs": [
    {
     "data": {
      "text/plain": [
       "\n"
      ]
     },
     "execution_count": 1,
     "metadata": {},
     "output_type": "execute_result"
    }
   ],
   "source": [
    "torch.setdefaulttensortype('torch.FloatTensor')"
   ]
  },
  {
   "cell_type": "markdown",
   "metadata": {},
   "source": [
    "## Generate reference results using the OLD `IntegralSmartNorm`"
   ]
  },
  {
   "cell_type": "code",
   "execution_count": 2,
   "metadata": {
    "collapsed": true
   },
   "outputs": [],
   "source": [
    "require 'image'\n",
    "\n",
    "nInputPlane = 3\n",
    "nWindows = 4\n",
    "h = 200\n",
    "w = 200\n",
    "\n",
    "referencePath = 'Checker/reference.t7'\n",
    "if lfs.attributes(referencePath) then\n",
    "    reference = torch.load(referencePath)\n",
    "else\n",
    "    reference = {}\n",
    "    reference.image = image.scale(image.lena(), h, w)\n",
    "    \n",
    "    reference.xMin = torch.Tensor{-200, 35.5,  99, 0.0}\n",
    "    reference.xMax = torch.Tensor{-195, 35.5, 100, 1.1}\n",
    "    reference.yMin = torch.Tensor{  95, -1.0,  99,  -10}\n",
    "    reference.yMax = torch.Tensor{ 100, -1.0, 100,   0}\n",
    "    \n",
    "    IntegralSmartNorm = nil\n",
    "    debug.getregistry()['IntegralSmartNorm'] = nil \n",
    "    package.loaded['IntegralSmartNorm'] = nil\n",
    "    require 'IntegralSmartNorm'\n",
    "    \n",
    "    int = IntegralSmartNorm(nWindows, h, w)\n",
    "    int.exact = true\n",
    "    int.smart = true\n",
    "    for _, param in ipairs{'xMin', 'xMax', 'yMin', 'yMax'} do\n",
    "        int[param]:copy(reference[param])\n",
    "    end\n",
    "    \n",
    "    int:forward(reference.image)\n",
    "    reference.outputNonNorm = int.outputNonNorm:clone()\n",
    "    reference.outputOnes = torch.repeatTensor(int.outputOnes, nInputPlane, 1, 1)\n",
    "    \n",
    "    torch.manualSeed(666)\n",
    "    reference.gradOutput = torch.rand(int.output:size())\n",
    "    int:backward(reference.image, reference.gradOutput)\n",
    "    for _, param in ipairs{'gradInput', 'gradXMin', 'gradXMax', 'gradYMin', 'gradYMax'} do\n",
    "        reference[param] = int[param]\n",
    "    end\n",
    "    \n",
    "--     torch.save(referencePath, reference)\n",
    "end"
   ]
  },
  {
   "cell_type": "markdown",
   "metadata": {},
   "source": [
    "### Check new `IntegralSmartNorm`'s output against the reference"
   ]
  },
  {
   "cell_type": "code",
   "execution_count": 3,
   "metadata": {},
   "outputs": [
    {
     "data": {
      "text/plain": [
       "outputOnes diff:\t0\t\n"
      ]
     },
     "execution_count": 3,
     "metadata": {},
     "output_type": "execute_result"
    },
    {
     "data": {
      "text/plain": [
       "outputNonNorm diff:\t0\t\n"
      ]
     },
     "execution_count": 3,
     "metadata": {},
     "output_type": "execute_result"
    },
    {
     "data": {
      "text/plain": [
       "gradInput diff:\t11378.567382812\t\n",
       "1\t-3506.1481933594\t11313.86328125\t\n"
      ]
     },
     "execution_count": 3,
     "metadata": {},
     "output_type": "execute_result"
    },
    {
     "data": {
      "image/png": "[encoded data removed]",
      "text/plain": [
       "Console does not support images"
      ]
     },
     "metadata": {
      "image/png": {
       "height": 200,
       "width": 200
      }
     },
     "output_type": "display_data"
    },
    {
     "data": {
      "text/plain": [
       "2\t-3589.501953125\t11329.91796875\t\n"
      ]
     },
     "execution_count": 3,
     "metadata": {},
     "output_type": "execute_result"
    },
    {
     "data": {
      "text/plain": [
       "3\t-3543.2182617188\t11204.7734375\t\n"
      ]
     },
     "execution_count": 3,
     "metadata": {},
     "output_type": "execute_result"
    },
    {
     "data": {
      "image/png": "[encoded data removed]",
      "text/plain": [
       "Console does not support images"
      ]
     },
     "metadata": {
      "image/png": {
       "height": 200,
       "width": 200
      }
     },
     "output_type": "display_data"
    },
    {
     "data": {
      "image/png": "[encoded data removed]",
      "text/plain": [
       "Console does not support images"
      ]
     },
     "metadata": {
      "image/png": {
       "height": 200,
       "width": 200
      }
     },
     "output_type": "display_data"
    },
    {
     "ename": "./IntegralSmartNorm.lua:710: NYI\nstack traceback:\n\t[C]: in function 'error'\n\t./IntegralSmartNorm.lua:710: in function 'accGradParameters'\n\t[string \"IntegralSmartNorm = nil...\"]:26: in main chunk\n\t[C]: in function 'xpcall'\n\t...ubb/Programs/Torch/install/share/lua/5.1/itorch/main.lua:210: in function <...ubb/Programs/Torch/install/share/lua/5.1/itorch/main.lua:174>\n\t...ubb/Programs/Torch/install/share/lua/5.1/lzmq/poller.lua:75: in function 'poll'\n\t.../Programs/Torch/install/share/lua/5.1/lzmq/impl/loop.lua:307: in function 'poll'\n\t.../Programs/Torch/install/share/lua/5.1/lzmq/impl/loop.lua:325: in function 'sleep_ex'\n\t.../Programs/Torch/install/share/lua/5.1/lzmq/impl/loop.lua:370: in function 'start'\n\t...ubb/Programs/Torch/install/share/lua/5.1/itorch/main.lua:389: in main chunk\n\t[C]: in function 'require'\n\t(command line):1: in main chunk\n\t[C]: at 0x00405e40",
     "evalue": "",
     "output_type": "error",
     "traceback": [
      "./IntegralSmartNorm.lua:710: NYI\nstack traceback:\n\t[C]: in function 'error'\n\t./IntegralSmartNorm.lua:710: in function 'accGradParameters'\n\t[string \"IntegralSmartNorm = nil...\"]:26: in main chunk\n\t[C]: in function 'xpcall'\n\t...ubb/Programs/Torch/install/share/lua/5.1/itorch/main.lua:210: in function <...ubb/Programs/Torch/install/share/lua/5.1/itorch/main.lua:174>\n\t...ubb/Programs/Torch/install/share/lua/5.1/lzmq/poller.lua:75: in function 'poll'\n\t.../Programs/Torch/install/share/lua/5.1/lzmq/impl/loop.lua:307: in function 'poll'\n\t.../Programs/Torch/install/share/lua/5.1/lzmq/impl/loop.lua:325: in function 'sleep_ex'\n\t.../Programs/Torch/install/share/lua/5.1/lzmq/impl/loop.lua:370: in function 'start'\n\t...ubb/Programs/Torch/install/share/lua/5.1/itorch/main.lua:389: in main chunk\n\t[C]: in function 'require'\n\t(command line):1: in main chunk\n\t[C]: at 0x00405e40"
     ]
    }
   ],
   "source": [
    "IntegralSmartNorm = nil\n",
    "debug.getregistry()['IntegralSmartNorm'] = nil \n",
    "package.loaded['IntegralSmartNorm'] = nil\n",
    "require 'IntegralSmartNorm'\n",
    "\n",
    "int = IntegralSmartNorm(nInputPlane, nWindows, h, w)\n",
    "int.exact = true\n",
    "int.smart = true\n",
    "int.replicate = true\n",
    "for _, param in ipairs{'xMin', 'xMax', 'yMin', 'yMax'} do\n",
    "    int[param]:copy(torch.repeatTensor(reference[param], nInputPlane))\n",
    "end\n",
    "\n",
    "int:forward(reference.image)\n",
    "print('outputOnes diff:', (reference.outputOnes - int.outputOnes):abs():mean())\n",
    "print('outputNonNorm diff:', (reference.outputNonNorm - int.outputNonNorm):abs():max())\n",
    "\n",
    "int:updateGradInput(reference.image, reference.gradOutput)\n",
    "print('gradInput diff:', (reference.gradInput - int.gradInput):abs():max())\n",
    "for k = 1,3 do\n",
    "    local t =int.gradInput[k]\n",
    "    print(k, t:min(), t:max())\n",
    "    itorch.image(t)\n",
    "end\n",
    "\n",
    "int:accGradParameters(reference.image, reference.gradOutput)\n",
    "for _, param in ipairs{'gradInput', 'gradXMin', 'gradXMax', 'gradYMin', 'gradYMax'} do\n",
    "--     print(param .. ' diff:', \n",
    "--         (reference[param] - int[param]:view(nInputPlane, nWindows):sum(1)):abs():max())\n",
    "end"
   ]
  },
  {
   "cell_type": "code",
   "execution_count": null,
   "metadata": {},
   "outputs": [
    {
     "data": {
      "text/plain": [
       "-1\t\n",
       "1\t\n",
       "1\t\n",
       "3\t\n",
       "input\t\n",
       "(1,.,.) = \n",
       "  1  1  1  1\n",
       "  1  5  1  1\n",
       "  1  1  1  1\n",
       "  1  1  1  1\n",
       "[torch.FloatTensor of size 1x4x4]\n",
       "\n",
       "output\t\n",
       "(1,.,.) = \n",
       "  10   4   2   2\n",
       "  13   6   3   3\n",
       "  13   6   3   3\n",
       "   6   4   2   2\n",
       "\n",
       "(2,.,.) = \n",
       "   1   1   3   1\n",
       "   1   1   1   1\n",
       "   1   1   1   1\n",
       "   1   1   1   1\n",
       "[torch.FloatTensor of size 2x4x4]\n",
       "\n",
       "target\t\n",
       "(1,.,.) = \n",
       "  1  1  1  1\n",
       "  1  1  1  1\n",
       "  1  1  1  1\n",
       "  1  1  1  1\n",
       "\n",
       "(2,.,.) = \n",
       "  1  1  1  1\n",
       "  1  1  1  1\n",
       "  1  1  1  1\n",
       "  1  1  1  1\n",
       "[torch.FloatTensor of size 2x4x4]\n",
       "\n",
       "loss\t\n",
       "15.1875\t\n",
       "gradOutput\t\n",
       "(1,.,.) = \n",
       "  0.5625  0.1875  0.0625  0.0625\n",
       "  0.7500  0.3125  0.1250  0.1250\n",
       "  0.7500  0.3125  0.1250  0.1250\n",
       "  0.3125  0.1875  0.0625  0.0625\n",
       "\n",
       "(2,.,.) = \n",
       "  0.0000  0.0000  0.1250  0.0000\n",
       "  0.0000  0.0000  0.0000  0.0000\n",
       "  0.0000  0.0000  0.0000  0.0000\n",
       "  0.0000  0.0000  0.0000  0.0000\n",
       "[torch.FloatTensor of size 2x4x4]\n",
       "\n",
       "gradInput\t\n",
       "(1,.,.) = \n",
       "  0.0000  1.3125  1.8125  2.1875\n",
       "  0.1250  2.0938  2.5625  3.5000\n",
       " -0.5625  1.6562  4.3750  3.2500\n",
       " -0.5625  0.8750  3.5000  1.9375\n",
       "[torch.FloatTensor of size 1x4x4]\n",
       "\n",
       "-0.5625\t4.375\t\n"
      ]
     },
     "execution_count": 8,
     "metadata": {},
     "output_type": "execute_result"
    }
   ],
   "source": [
    "IntegralSmartNorm = nil\n",
    "debug.getregistry()['IntegralSmartNorm'] = nil \n",
    "package.loaded['IntegralSmartNorm'] = nil\n",
    "require 'IntegralSmartNorm'\n",
    "\n",
    "torch.manualSeed(666)\n",
    "local h,w = 4,4\n",
    "img = torch.ones(1, h, w)\n",
    "\n",
    "int = IntegralSmartNorm(1, 2, h, w)\n",
    "pX, pY = 2,2\n",
    "\n",
    "int.exact = true\n",
    "int.smart = false\n",
    "crit = nn.MSECriterion()\n",
    "target = torch.ones(int.nWindows, h, w)\n",
    "\n",
    "--     reference.xMin = torch.Tensor{-200, 35.5,  99, 0.0}\n",
    "--     reference.xMax = torch.Tensor{-195, 35.5, 100, 1.1}\n",
    "--     reference.yMin = torch.Tensor{  95, -1.0,  99,  -10}\n",
    "--     reference.yMax = torch.Tensor{ 100, -1.0, 100,   0}\n",
    "int.xMin[1][1] = -1\n",
    "int.xMax[1][1] = 1\n",
    "int.yMin[1][1] = 1\n",
    "int.yMax[1][1] = 3\n",
    "\n",
    "int.xMin[1][2] = 1.5\n",
    "int.xMax[1][2] = 1.5\n",
    "int.yMin[1][2] = -1\n",
    "int.yMax[1][2] = -1\n",
    "\n",
    "img[{1,pX,pY}] = 5\n",
    "int:forward(img)\n",
    "\n",
    "print(int.xMin[1][1])\n",
    "print(int.xMax[1][1])\n",
    "print(int.yMin[1][1])\n",
    "print(int.yMax[1][1])\n",
    "\n",
    "print('input')\n",
    "print(img)\n",
    "print('output')\n",
    "print(int.output)\n",
    "print('target')\n",
    "print(target)\n",
    "loss = crit:forward(int.output, target)\n",
    "print('loss')\n",
    "print(loss)\n",
    "gradOutput = crit:updateGradInput(int.output, target)\n",
    "print('gradOutput')\n",
    "print(gradOutput)\n",
    "int:updateGradInput(img, gradOutput)\n",
    "print('gradInput')\n",
    "print(int.gradInput)\n",
    "print(int.gradInput:min(), int.gradInput:max())\n",
    "\n",
    "params = {}\n",
    "loss = {}\n",
    "deriv = {}\n",
    "derivM = {}\n",
    "\n",
    "local k = 1\n",
    "local step = 0.05\n",
    "local innerStep = 0.005\n",
    "\n",
    "-- do return end\n",
    "for param = -10,16,step do\n",
    "    params[k] = param\n",
    "    img[{1,pX,pY}] = param\n",
    "    pred = int:forward(img)\n",
    "    loss[k] = crit:forward(pred, target)\n",
    "    \n",
    "    int:updateGradInput(img, crit:updateGradInput(pred, target))\n",
    "    derivM[k] = int.gradInput[{1,pX,pY}]\n",
    "    \n",
    "    img[{1,pX,pY}] = param + innerStep\n",
    "    valFront = crit:forward(int:forward(img), target)\n",
    "    img[{1,pX,pY}] = param - innerStep\n",
    "    valBack = crit:forward(int:forward(img), target)\n",
    "    \n",
    "    deriv[k] = (valFront - valBack) / (2 * innerStep)\n",
    "    \n",
    "    k = k + 1\n",
    "end\n",
    "\n",
    "-- loss[#loss] = nil\n",
    "-- params[#params] = nil\n",
    "-- derivM[#derivM] = nil"
   ]
  },
  {
   "cell_type": "code",
   "execution_count": 5,
   "metadata": {},
   "outputs": [],
   "source": [
    "require 'gnuplot'\n",
    "\n",
    "gnuplot.plot(\n",
    "    {'Loss', torch.Tensor(params), torch.Tensor(loss), '-'},\n",
    "    {'Diff', torch.Tensor(params), torch.Tensor(deriv), '-'},\n",
    "    {'Manual', torch.Tensor(params), torch.Tensor(derivM), '-'}\n",
    ")\n",
    "gnuplot.grid(true)"
   ]
  },
  {
   "cell_type": "code",
   "execution_count": 5,
   "metadata": {},
   "outputs": [
    {
     "data": {
      "text/plain": [
       " 1  2  3\n",
       " 4  5  6\n",
       " 7  8  9\n",
       "[torch.FloatTensor of size 3x3]\n",
       "\n"
      ]
     },
     "execution_count": 5,
     "metadata": {},
     "output_type": "execute_result"
    },
    {
     "data": {
      "text/plain": [
       "(1,.,.) = \n",
       "  6.2500  7.4000  8.5500\n",
       "  4.2000  4.8000  5.4000\n",
       "  0.0000  0.0000  0.0000\n",
       "[torch.FloatTensor of size 1x3x3]\n",
       "\n",
       " 1  2  3\n",
       " 4  5  6\n",
       " 7  8  9\n",
       "[torch.FloatTensor of size 3x3]\n",
       "\n"
      ]
     },
     "execution_count": 5,
     "metadata": {},
     "output_type": "execute_result"
    },
    {
     "data": {
      "text/plain": [
       "-1\t0.54999995231628\t\n",
       "-1\t0.60000002384186\t\n",
       "0\t0\t\n",
       "1\t0\t\n",
       "(1,.,.) = \n",
       "   0.0000   0.0000   0.0000\n",
       "   0.6000   1.2000   1.8000\n",
       "  11.5500  14.1000  16.6500\n",
       "[torch.FloatTensor of size 1x3x3]\n",
       "\n"
      ]
     },
     "execution_count": 5,
     "metadata": {},
     "output_type": "execute_result"
    }
   ],
   "source": [
    "input = torch.Tensor{{1,2,3},{4,5,6},{7,8,9}}\n",
    "int = IntegralSmartNorm(1, 1, 3, 3)\n",
    "\n",
    "int.smart = false\n",
    "int.exact = true\n",
    "int.replicate = false\n",
    "\n",
    "int.xMin[1][1] = 1.4\n",
    "int.xMax[1][1] = 1.55\n",
    "int.yMin[1][1] = 0\n",
    "int.yMax[1][1] = 0\n",
    "\n",
    "gradOutput = input:clone()\n",
    "print(input)\n",
    "print(int:forward(input))\n",
    "print(gradOutput)\n",
    "int:updateGradInput(input, gradOutput)\n",
    "print(int.xMinInt[1], int.xMinFrac[1])\n",
    "print(int.xMaxInt[1], int.xMaxFrac[1])\n",
    "print(int.yMinInt[1], int.yMinFrac[1])\n",
    "print(int.yMaxInt[1], int.yMaxFrac[1])\n",
    "print(int.gradInput)"
   ]
  },
  {
   "cell_type": "code",
   "execution_count": null,
   "metadata": {
    "collapsed": true
   },
   "outputs": [],
   "source": []
  }
 ],
 "metadata": {
  "kernelspec": {
   "display_name": "iTorch",
   "language": "lua",
   "name": "itorch"
  },
  "language_info": {
   "name": "lua",
   "version": "5.1"
  }
 },
 "nbformat": 4,
 "nbformat_minor": 2
}
