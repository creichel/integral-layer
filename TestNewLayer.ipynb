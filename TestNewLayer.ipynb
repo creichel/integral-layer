{
 "cells": [
  {
   "cell_type": "code",
   "execution_count": 4,
   "metadata": {
    "collapsed": false
   },
   "outputs": [],
   "source": [
    "require 'nn'\n",
    "\n",
    "torch.setdefaulttensortype('torch.FloatTensor')\n",
    "\n",
    "MyLayer, parent = torch.class('nn.MyLayer', 'nn.Module')"
   ]
  },
  {
   "cell_type": "markdown",
   "metadata": {},
   "source": [
    "Input: two numbers $(x,y)$, output: $\\left(e^{ax+by}, ~\\sin cx \\cdot \\cos dy\\right)$"
   ]
  },
  {
   "cell_type": "code",
   "execution_count": 30,
   "metadata": {
    "collapsed": false
   },
   "outputs": [],
   "source": [
    "-- MyLayer definition\n",
    "\n",
    "function MyLayer:__init()\n",
    "    parent.__init(self)\n",
    "    self:zeroGradParameters()\n",
    "    self:reset()\n",
    "end\n",
    "\n",
    "function MyLayer:reset()\n",
    "    self.a = torch.uniform(-1,1)\n",
    "    self.b = torch.uniform(-1,1)\n",
    "    self.c = torch.uniform(-1,1)\n",
    "    self.d = torch.uniform(-1,1)\n",
    "end\n",
    "\n",
    "function MyLayer:updateOutput(input)\n",
    "    self.output:resize(2)\n",
    "    \n",
    "    local x, y = input[1], input[2]\n",
    "--     print(x,y)\n",
    "--     print(self.output)\n",
    "    self.output[1] = torch.exp(self.a*x + self.b*y)\n",
    "    self.output[2] = torch.sin(self.c*x)*torch.cos(self.d*y)\n",
    "--     print('here')\n",
    "    \n",
    "    return self.output\n",
    "end\n",
    "\n",
    "function MyLayer:updateGradInput(input, gradOutput)\n",
    "    if self.gradInput then\n",
    "        self.gradInput:resize(2)\n",
    "        \n",
    "        self.gradInput[1] = \n",
    "            gradOutput[1] * self.a * self.output[1] +\n",
    "            gradOutput[2] * self.c * \n",
    "                torch.cos(self.c * input[1]) *\n",
    "                torch.cos(self.d * input[2])\n",
    "        \n",
    "        self.gradInput[2] = \n",
    "            gradOutput[1] * self.b * self.output[1] -\n",
    "            gradOutput[2] * self.d * \n",
    "                torch.sin(self.c * input[1]) *\n",
    "                torch.sin(self.d * input[2])\n",
    "        \n",
    "        return self.gradInput\n",
    "    end\n",
    "end\n",
    "\n",
    "function MyLayer:accGradParameters(input, gradOutput, scale)\n",
    "    scale = scale or 1\n",
    "    \n",
    "    self.gradA = self.gradA + \n",
    "        scale * gradOutput[1] * input[1] * self.output[1]\n",
    "    self.gradB = self.gradB + \n",
    "        scale * gradOutput[1] * input[2] * self.output[1]\n",
    "    \n",
    "    self.gradC = self.gradC + \n",
    "        scale * gradOutput[2] * \n",
    "            torch.cos(self.d * input[2]) *\n",
    "            torch.cos(self.c * input[1]) * input[1]\n",
    "    self.gradD = self.gradD - \n",
    "        scale * gradOutput[2] * \n",
    "            torch.sin(self.c * input[1]) *\n",
    "            torch.sin(self.d * input[2]) * input[2]\n",
    "end\n",
    "\n",
    "function MyLayer:zeroGradParameters()\n",
    "    self.gradA, self.gradB, self.gradC, self.gradD = 0, 0, 0, 0\n",
    "end\n",
    "\n",
    "function MyLayer:updateParameters(lr)\n",
    "    self.a = self.a - lr * self.gradA\n",
    "    self.b = self.b - lr * self.gradB\n",
    "    self.c = self.c - lr * self.gradC\n",
    "    self.d = self.d - lr * self.gradD\n",
    "end"
   ]
  },
  {
   "cell_type": "markdown",
   "metadata": {},
   "source": [
    "Test this layer in a 2-layer \"perceptron\" to classify points in 2D:"
   ]
  },
  {
   "cell_type": "code",
   "execution_count": 57,
   "metadata": {
    "collapsed": false
   },
   "outputs": [],
   "source": [
    "dataset = {}\n",
    "labels = {}\n",
    "\n",
    "for x = -1,0,0.1 do\n",
    "    for y = x,-x,0.1 do\n",
    "        dataset[#dataset+1] = {x, y}\n",
    "        labels[#labels+1] = 1\n",
    "    end\n",
    "end\n",
    "\n",
    "for x = -0.5,0.5,0.1 do\n",
    "    for y = -1,x-0.5,0.1 do\n",
    "        dataset[#dataset+1] = {x, y}\n",
    "        labels[#labels+1] = 2\n",
    "    end\n",
    "    \n",
    "    for y = 1,0.5-x,-0.1 do\n",
    "        dataset[#dataset+1] = {x, y}\n",
    "        labels[#labels+1] = 2\n",
    "    end\n",
    "end\n",
    "-- remove (0.5, 0)\n",
    "dataset[#dataset] = nil\n",
    "labels[#labels] = nil\n",
    "\n",
    "for x = 0.6,1,0.1 do\n",
    "    for y = -1,1,0.1 do\n",
    "        dataset[#dataset+1] = {x, y}\n",
    "        labels[#labels+1] = 2\n",
    "    end\n",
    "end\n",
    "\n",
    "dataset = torch.Tensor(dataset)\n",
    "labels = torch.Tensor(labels)\n",
    "\n",
    "dataset[{{}, 1}]:add(-dataset[{{}, 1}]:mean())\n",
    "dataset[{{}, 2}]:add(-dataset[{{}, 2}]:mean())\n",
    "dataset[{{}, 1}]:div(dataset[{{}, 1}]:std())\n",
    "dataset[{{}, 2}]:div(dataset[{{}, 2}]:std())"
   ]
  },
  {
   "cell_type": "code",
   "execution_count": 32,
   "metadata": {
    "collapsed": false
   },
   "outputs": [],
   "source": [
    "cv = require 'cv'\n",
    "require 'cv.highgui'\n",
    "require 'cv.imgproc'\n",
    "\n",
    "function drawPredictions(net)\n",
    "    local size = 600\n",
    "    img = torch.ByteTensor(size, size, 3):zero()\n",
    "    \n",
    "    local step = 0.025\n",
    "    \n",
    "    for x = -1,1,step do\n",
    "        for y = -1,1,step do\n",
    "            local class = select(2, net:forward(torch.Tensor{x,y}):max(1))[1]\n",
    "            color = class == 1 and {0,255,0} or {255,100,100}\n",
    "            cv.rectangle{img, \n",
    "                {size*(x+1)/2, size*(y+1)/2},\n",
    "                {size*(x+step+1)/2, size*(y+step+1)/2}, color, cv.FILLED}\n",
    "        end\n",
    "    end\n",
    "    \n",
    "    for i = 1,dataset:size(1) do\n",
    "        local class = select(2, net:forward(dataset[i]):max(1))[1]\n",
    "        cv.circle{img, ((dataset[i]+1)/2*size):totable(), 3, \n",
    "            class == 1 and {0,0,0} or {255,255,255}, cv.FILLED}\n",
    "    end\n",
    "    \n",
    "    cv.imshow{'w', img}\n",
    "    cv.waitKey{1}\n",
    "end"
   ]
  },
  {
   "cell_type": "code",
   "execution_count": 70,
   "metadata": {
    "collapsed": false
   },
   "outputs": [
    {
     "data": {
      "text/plain": [
       "Error:\t0.045873041586773\t\n"
      ]
     },
     "execution_count": 70,
     "metadata": {},
     "output_type": "execute_result"
    },
    {
     "data": {
      "text/plain": [
       "Error:\t0.045528263281865\t\n"
      ]
     },
     "execution_count": 70,
     "metadata": {},
     "output_type": "execute_result"
    },
    {
     "data": {
      "text/plain": [
       "Error:\t0.045191595748208\t\n"
      ]
     },
     "execution_count": 70,
     "metadata": {},
     "output_type": "execute_result"
    },
    {
     "data": {
      "text/plain": [
       "Error:\t0.044862643679127\t\n"
      ]
     },
     "execution_count": 70,
     "metadata": {},
     "output_type": "execute_result"
    },
    {
     "data": {
      "text/plain": [
       "Error:\t0.044541130312067\t\n"
      ]
     },
     "execution_count": 70,
     "metadata": {},
     "output_type": "execute_result"
    },
    {
     "data": {
      "text/plain": [
       "Error:\t0.044226698686044\t\n"
      ]
     },
     "execution_count": 70,
     "metadata": {},
     "output_type": "execute_result"
    },
    {
     "data": {
      "text/plain": [
       "Error:\t0.043919077895111\t\n"
      ]
     },
     "execution_count": 70,
     "metadata": {},
     "output_type": "execute_result"
    },
    {
     "data": {
      "text/plain": [
       "Error:\t0.043617969714089\t\n"
      ]
     },
     "execution_count": 70,
     "metadata": {},
     "output_type": "execute_result"
    },
    {
     "data": {
      "text/plain": [
       "Error:\t0.043323123857241\t\n"
      ]
     },
     "execution_count": 70,
     "metadata": {},
     "output_type": "execute_result"
    },
    {
     "data": {
      "text/plain": [
       "Error:\t0.043034292517631\t\n"
      ]
     },
     "execution_count": 70,
     "metadata": {},
     "output_type": "execute_result"
    },
    {
     "data": {
      "text/plain": [
       "Error:\t0.042751228248501\t\n"
      ]
     },
     "execution_count": 70,
     "metadata": {},
     "output_type": "execute_result"
    },
    {
     "data": {
      "text/plain": [
       "Error:\t0.042473747327406\t\n"
      ]
     },
     "execution_count": 70,
     "metadata": {},
     "output_type": "execute_result"
    },
    {
     "data": {
      "text/plain": [
       "Error:\t0.042201617888433\t\n"
      ]
     },
     "execution_count": 70,
     "metadata": {},
     "output_type": "execute_result"
    },
    {
     "data": {
      "text/plain": [
       "Error:\t0.041934642302361\t\n"
      ]
     },
     "execution_count": 70,
     "metadata": {},
     "output_type": "execute_result"
    },
    {
     "data": {
      "text/plain": [
       "Error:\t0.041672647543245\t\n"
      ]
     },
     "execution_count": 70,
     "metadata": {},
     "output_type": "execute_result"
    },
    {
     "data": {
      "text/plain": [
       "Error:\t0.041415461894511\t\n"
      ]
     },
     "execution_count": 70,
     "metadata": {},
     "output_type": "execute_result"
    },
    {
     "data": {
      "text/plain": [
       "Error:\t0.041162895367854\t\n"
      ]
     },
     "execution_count": 70,
     "metadata": {},
     "output_type": "execute_result"
    },
    {
     "data": {
      "text/plain": [
       "Error:\t0.040914824529914\t\n"
      ]
     },
     "execution_count": 70,
     "metadata": {},
     "output_type": "execute_result"
    },
    {
     "data": {
      "text/plain": [
       "Error:\t0.040671071998233\t\n"
      ]
     },
     "execution_count": 70,
     "metadata": {},
     "output_type": "execute_result"
    },
    {
     "data": {
      "text/plain": [
       "Error:\t0.040431502218557\t\n"
      ]
     },
     "execution_count": 70,
     "metadata": {},
     "output_type": "execute_result"
    },
    {
     "data": {
      "text/plain": [
       "Error:\t0.040195968359698\t\n"
      ]
     },
     "execution_count": 70,
     "metadata": {},
     "output_type": "execute_result"
    },
    {
     "data": {
      "text/plain": [
       "Error:\t0.039964371432569\t\n"
      ]
     },
     "execution_count": 70,
     "metadata": {},
     "output_type": "execute_result"
    },
    {
     "data": {
      "text/plain": [
       "Error:\t0.039736575313653\t\n"
      ]
     },
     "execution_count": 70,
     "metadata": {},
     "output_type": "execute_result"
    },
    {
     "data": {
      "text/plain": [
       "Error:\t0.039512455420464\t\n"
      ]
     },
     "execution_count": 70,
     "metadata": {},
     "output_type": "execute_result"
    },
    {
     "data": {
      "text/plain": [
       "Error:\t0.039291908558694\t\n"
      ]
     },
     "execution_count": 70,
     "metadata": {},
     "output_type": "execute_result"
    }
   ],
   "source": [
    "net = nn.Sequential()\n",
    "net:add(nn.MyLayer())\n",
    "-- net:add(nn.Tanh())\n",
    "net:add(nn.Linear(2, 2))\n",
    "\n",
    "-- local L2 = 0.001\n",
    "\n",
    "crit = nn.CrossEntropyCriterion()\n",
    "\n",
    "cv.destroyAllWindows{}\n",
    "cv.namedWindow{'w'}\n",
    "\n",
    "local manual = true -- manual gradient accumulation, NOT batch mode\n",
    "local lr = 25e-1\n",
    "\n",
    "for iter = 1,25 do\n",
    "    if iter % 50 == 0 then lr = lr * 0.85 end\n",
    "        \n",
    "    drawPredictions(net)\n",
    "    \n",
    "    if manual then\n",
    "        local avgErr = 0\n",
    "        net:zeroGradParameters()\n",
    "        \n",
    "        for idx = 1,dataset:size(1) do\n",
    "--             local idx = torch.random(dataset:size(1))\n",
    "            local pred = net:forward(dataset[idx])\n",
    "            local err  = crit:forward(pred, labels[idx])\n",
    "            avgErr = avgErr + err\n",
    "\n",
    "            local dLoss_dOutput = crit:backward(pred, labels[idx])\n",
    "            net:updateGradInput(dataset[idx], dLoss_dOutput)\n",
    "            net:accGradParameters(\n",
    "                dataset[idx], \n",
    "                dLoss_dOutput, \n",
    "                idx == 121 and 50 / dataset:size(1) or 1 / dataset:size(1))\n",
    "        end\n",
    "        \n",
    "        net:updateParameters(lr)\n",
    "        avgErr = avgErr / dataset:size(1)\n",
    "        print('Error:', avgErr)\n",
    "    else\n",
    "        net:zeroGradParameters()\n",
    "\n",
    "        local pred = net:forward(dataset)\n",
    "        local err  = crit:forward(pred, labels)\n",
    "        print('Error:' .. err)\n",
    "\n",
    "        local dLoss_dOutput = crit:backward(pred, labels)\n",
    "        net:backward(dataset, dLoss_dOutput)\n",
    "\n",
    "    --     net:get(1).gradBias:add(net:get(1).bias*L2)\n",
    "    --     net:get(1).gradWeight:add(net:get(1).weight*L2)\n",
    "    --     net:get(3).gradBias:add(net:get(3).bias*L2)\n",
    "    --     net:get(3).gradWeight:add(net:get(3).weight*L2)\n",
    "\n",
    "        net:updateParameters(lr)\n",
    "    end\n",
    "end\n",
    "\n",
    "drawPredictions(net)\n",
    "\n",
    "cv.destroyAllWindows{}"
   ]
  }
 ],
 "metadata": {
  "kernelspec": {
   "display_name": "iTorch",
   "language": "lua",
   "name": "itorch"
  },
  "language_info": {
   "name": "lua",
   "version": "5.1"
  }
 },
 "nbformat": 4,
 "nbformat_minor": 1
}
