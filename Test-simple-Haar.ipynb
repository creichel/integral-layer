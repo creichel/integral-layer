{
 "cells": [
  {
   "cell_type": "code",
   "execution_count": 1,
   "metadata": {
    "collapsed": false
   },
   "outputs": [],
   "source": [
    "torch.setdefaulttensortype('torch.FloatTensor')"
   ]
  },
  {
   "cell_type": "code",
   "execution_count": 2,
   "metadata": {
    "collapsed": false
   },
   "outputs": [
    {
     "data": {
      "image/png": "[encoded data removed]",
      "text/plain": [
       "Console does not support images"
      ]
     },
     "metadata": {
      "image/png": {
       "height": 158,
       "width": 172
      }
     },
     "output_type": "display_data"
    }
   ],
   "source": [
    "require 'image'\n",
    "filter = image.gaussian(100)\n",
    "filter:div(filter:sum())\n",
    "input = image.convolve(image.fabio(), filter)\n",
    "itorch.image(input)"
   ]
  },
  {
   "cell_type": "code",
   "execution_count": 3,
   "metadata": {
    "collapsed": false
   },
   "outputs": [
    {
     "data": {
      "image/png": "[encoded data removed]",
      "text/plain": [
       "Console does not support images"
      ]
     },
     "metadata": {
      "image/png": {
       "height": 160,
       "width": 522
      }
     },
     "output_type": "display_data"
    }
   ],
   "source": [
    "Integral = nil\n",
    "IntegralSmartNorm = nil\n",
    "debug.getregistry()['Integral'] = nil \n",
    "debug.getregistry()['IntegralSmartNorm'] = nil \n",
    "package.loaded['Integral'] = nil\n",
    "package.loaded['IntegralSmartNorm'] = nil\n",
    "\n",
    "require 'nn'\n",
    "require 'IntegralSmartNorm'\n",
    "\n",
    "refInt = IntegralSmartNorm(2, input:size(1), input:size(2)):type(input:type())\n",
    "\n",
    "refRects = {{20, 20, 100, 100}, {-40, -40, 60, 60}}\n",
    "\n",
    "for k = 1,2 do\n",
    "    refInt.xMin[k], refInt.xMax[k], refInt.yMin[k], refInt.yMax[k] = table.unpack(refRects[k])\n",
    "end\n",
    "\n",
    "targetSeparate = refInt:forward(input)\n",
    "target = targetSeparate[1] - targetSeparate[2]\n",
    "itorch.image{targetSeparate[1], targetSeparate[2], target}"
   ]
  },
  {
   "cell_type": "code",
   "execution_count": 66,
   "metadata": {
    "collapsed": true
   },
   "outputs": [],
   "source": [
    "require 'WindowDebugger'\n",
    "\n",
    "wDeb = WindowDebugger()\n",
    "\n",
    "int = IntegralSmartNorm(2, input:size(1), input:size(2)):type(input:type())\n",
    "int.exact = true\n",
    "\n",
    "conv = nn.SpatialConvolution(2, 1, 1,1,1,1)\n",
    "conv.weight[1][1][1][1] = 1\n",
    "conv.weight[1][1][1][1] = -1\n",
    "conv.bias[1] = 0 \n",
    "\n",
    "net = nn.Sequential()\n",
    "net:add(int)\n",
    "net:add(conv)\n",
    "\n",
    "crit = nn.MSECriterion():type(input:type())\n",
    "\n",
    "params, gradParams = int:getParameters()"
   ]
  },
  {
   "cell_type": "code",
   "execution_count": 67,
   "metadata": {
    "collapsed": true
   },
   "outputs": [],
   "source": [
    "require 'optim'\n",
    "\n",
    "optimState = {\n",
    "    learningRate = 3e3,\n",
    "    momentum = 0.6,\n",
    "    nesterov = true,\n",
    "    dampening = 0\n",
    "}"
   ]
  },
  {
   "cell_type": "code",
   "execution_count": 68,
   "metadata": {
    "collapsed": false
   },
   "outputs": [],
   "source": [
    "outputDir = 'Test-simple-Haar/1/'\n",
    "os.execute('mkdir \"' .. outputDir .. '\" -p')\n",
    "    \n",
    "logger = optim.Logger(outputDir .. 'accuracy.log')\n",
    "logger:setNames{'Loss'}\n",
    "logger:style{'-'}"
   ]
  },
  {
   "cell_type": "code",
   "execution_count": 69,
   "metadata": {
    "collapsed": false
   },
   "outputs": [],
   "source": [
    "for k = 1,150 do\n",
    "    local feval = function(x)\n",
    "        gradParams:zero()\n",
    "--         assert(0 == int.gradXMax[1])\n",
    "        local pred = net:forward(input)\n",
    "        local loss = crit:forward(pred, target)\n",
    "        local dloss_doutputs = crit:backward(pred, target)\n",
    "        net:backward(input, dloss_doutputs)\n",
    "--         print(int.gradXMax[1])\n",
    "        \n",
    "        return loss, gradParams\n",
    "    end\n",
    "\n",
    "    local _, loss = optim.sgd(feval, params, optimState)\n",
    "    logger:add{loss[1]}\n",
    "    \n",
    "    wDeb:add(int)\n",
    "    \n",
    "    logger:plot()\n",
    "end"
   ]
  },
  {
   "cell_type": "code",
   "execution_count": 70,
   "metadata": {
    "collapsed": false
   },
   "outputs": [
    {
     "data": {
      "text/plain": [
       "\n"
      ]
     },
     "execution_count": 70,
     "metadata": {},
     "output_type": "execute_result"
    }
   ],
   "source": [
    "wDeb:exportVideo(outputDir .. 'int.avi', refRects)"
   ]
  }
 ],
 "metadata": {
  "kernelspec": {
   "display_name": "iTorch",
   "language": "lua",
   "name": "itorch"
  },
  "language_info": {
   "name": "lua",
   "version": "5.1"
  }
 },
 "nbformat": 4,
 "nbformat_minor": 0
}
