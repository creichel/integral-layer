{
 "cells": [
  {
   "cell_type": "code",
   "execution_count": 1,
   "metadata": {
    "collapsed": false
   },
   "outputs": [
    {
     "data": {
      "text/plain": [
       "\n"
      ]
     },
     "execution_count": 1,
     "metadata": {},
     "output_type": "execute_result"
    }
   ],
   "source": [
    "torch.setdefaulttensortype('torch.FloatTensor')"
   ]
  },
  {
   "cell_type": "markdown",
   "metadata": {
    "collapsed": true
   },
   "source": [
    "## Integral image using CPU"
   ]
  },
  {
   "cell_type": "code",
   "execution_count": 2,
   "metadata": {
    "collapsed": false
   },
   "outputs": [
    {
     "data": {
      "text/plain": [
       "1 "
      ]
     },
     "execution_count": 2,
     "metadata": {},
     "output_type": "execute_result"
    },
    {
     "data": {
      "text/plain": [
       "2 "
      ]
     },
     "execution_count": 2,
     "metadata": {},
     "output_type": "execute_result"
    },
    {
     "data": {
      "text/plain": [
       "3 "
      ]
     },
     "execution_count": 2,
     "metadata": {},
     "output_type": "execute_result"
    },
    {
     "data": {
      "text/plain": [
       "4 "
      ]
     },
     "execution_count": 2,
     "metadata": {},
     "output_type": "execute_result"
    },
    {
     "data": {
      "text/plain": [
       "5 "
      ]
     },
     "execution_count": 2,
     "metadata": {},
     "output_type": "execute_result"
    },
    {
     "data": {
      "text/plain": [
       "6 "
      ]
     },
     "execution_count": 2,
     "metadata": {},
     "output_type": "execute_result"
    },
    {
     "data": {
      "text/plain": [
       "7 "
      ]
     },
     "execution_count": 2,
     "metadata": {},
     "output_type": "execute_result"
    },
    {
     "data": {
      "text/plain": [
       "8 "
      ]
     },
     "execution_count": 2,
     "metadata": {},
     "output_type": "execute_result"
    },
    {
     "data": {
      "text/plain": [
       "9 "
      ]
     },
     "execution_count": 2,
     "metadata": {},
     "output_type": "execute_result"
    },
    {
     "data": {
      "text/plain": [
       "10 \n",
       " 0.7331\n",
       " 0.5706\n",
       " 0.5593\n",
       " 0.5503\n",
       " 0.5551\n",
       " 0.6399\n",
       " 0.6080\n",
       " 0.5516\n",
       " 0.5545\n",
       " 0.5561\n",
       "[torch.FloatTensor of size 10]\n",
       "\n",
       "Average: 0.58784213066101 +/- 0.17674524630543 seconds\t\n"
      ]
     },
     "execution_count": 2,
     "metadata": {},
     "output_type": "execute_result"
    }
   ],
   "source": [
    "collectgarbage()\n",
    "\n",
    "img = torch.FloatTensor(200, 256, 512)\n",
    "torch.manualSeed(666)\n",
    "img:randn(img:size())\n",
    "result = torch.DoubleTensor(img:size(1), img:size(2)+1, img:size(3)+1)\n",
    "\n",
    "cv = require 'cv'\n",
    "require 'cv.imgproc'\n",
    "\n",
    "times = torch.Tensor(10)\n",
    "\n",
    "for k = 1,times:nElement() do\n",
    "    local timer = torch.Timer()\n",
    "    \n",
    "    for _ = 1,10 do\n",
    "        for i = 1,img:size(1) do\n",
    "            cv.integral{img[i], result[i]}\n",
    "        end\n",
    "    end\n",
    "    \n",
    "    times[k] = timer:time().real\n",
    "    io.stdout:write(k .. ' ')\n",
    "    io.stdout:flush()\n",
    "end\n",
    "\n",
    "print()\n",
    "print(times)\n",
    "print('Average: ' .. times:mean() .. ' +/- ' .. times:std() * 3 .. ' seconds')"
   ]
  },
  {
   "cell_type": "markdown",
   "metadata": {},
   "source": [
    "## Integral image using GPU"
   ]
  },
  {
   "cell_type": "code",
   "execution_count": 3,
   "metadata": {
    "collapsed": false
   },
   "outputs": [
    {
     "data": {
      "text/plain": [
       "1 "
      ]
     },
     "execution_count": 3,
     "metadata": {},
     "output_type": "execute_result"
    },
    {
     "data": {
      "text/plain": [
       "2 "
      ]
     },
     "execution_count": 3,
     "metadata": {},
     "output_type": "execute_result"
    },
    {
     "data": {
      "text/plain": [
       "3 "
      ]
     },
     "execution_count": 3,
     "metadata": {},
     "output_type": "execute_result"
    },
    {
     "data": {
      "text/plain": [
       "4 "
      ]
     },
     "execution_count": 3,
     "metadata": {},
     "output_type": "execute_result"
    },
    {
     "data": {
      "text/plain": [
       "5 "
      ]
     },
     "execution_count": 3,
     "metadata": {},
     "output_type": "execute_result"
    },
    {
     "data": {
      "text/plain": [
       "6 "
      ]
     },
     "execution_count": 3,
     "metadata": {},
     "output_type": "execute_result"
    },
    {
     "data": {
      "text/plain": [
       "7 "
      ]
     },
     "execution_count": 3,
     "metadata": {},
     "output_type": "execute_result"
    },
    {
     "data": {
      "text/plain": [
       "8 "
      ]
     },
     "execution_count": 3,
     "metadata": {},
     "output_type": "execute_result"
    },
    {
     "data": {
      "text/plain": [
       "9 "
      ]
     },
     "execution_count": 3,
     "metadata": {},
     "output_type": "execute_result"
    },
    {
     "data": {
      "text/plain": [
       "10 "
      ]
     },
     "execution_count": 3,
     "metadata": {},
     "output_type": "execute_result"
    },
    {
     "data": {
      "text/plain": [
       "0.01 *\n",
       " 4.9829\n",
       " 4.9315\n",
       " 5.0465\n",
       " 4.9628\n",
       " 4.8538\n",
       " 4.8126\n",
       " 4.8576\n",
       " 4.7347\n",
       " 4.7511\n",
       " 4.7983\n",
       "[torch.FloatTensor of size 10]\n",
       "\n",
       "Average: 0.048731803894043 +/- 0.0031221635827591 seconds\t\n"
      ]
     },
     "execution_count": 3,
     "metadata": {},
     "output_type": "execute_result"
    }
   ],
   "source": [
    "require 'cutorch'\n",
    "require 'IntegralSmartNorm'\n",
    "\n",
    "collectgarbage()\n",
    "\n",
    "imgGPU = img:cuda() --torch.CudaTensor(200, 256, 512)\n",
    "-- torch.manualSeed(666)\n",
    "-- cutorch.manualSeed(666)\n",
    "-- imgGPU:randn(imgGPU:size())\n",
    "resultGPU = torch.CudaTensor(imgGPU:size(1), imgGPU:size(2)+1, imgGPU:size(3)+1)\n",
    "tmp = resultGPU:clone()\n",
    "\n",
    "times = torch.Tensor(10)\n",
    "\n",
    "for k = 1,times:nElement() do\n",
    "    local timer = torch.Timer()\n",
    "    \n",
    "    for _ = 1,10 do\n",
    "        integralCUDA(imgGPU, resultGPU, tmp)\n",
    "    end\n",
    "    \n",
    "    cutorch.synchronize()\n",
    "    times[k] = timer:time().real\n",
    "    io.stdout:write(k .. ' ')\n",
    "    io.stdout:flush()\n",
    "end\n",
    "\n",
    "print(times)\n",
    "print('Average: ' .. times:mean() .. ' +/- ' .. times:std() * 3 .. ' seconds')"
   ]
  },
  {
   "cell_type": "code",
   "execution_count": null,
   "metadata": {
    "collapsed": true
   },
   "outputs": [],
   "source": [
    "rows: 0.32688353061676\n",
    "cols: 0.01458089351654\n",
    "total: \n",
    "(sum is 0.3414644241333)\n",
    "\n",
    "transpose:         0.00891916751861\n",
    "\n",
    "using inplace transpose: 0.33936667442322\n",
    "using inplace \"skinny\" transpose: 0.1487481355667\n",
    "using out-of-place transpose: 0.048898983001709"
   ]
  },
  {
   "cell_type": "code",
   "execution_count": 1,
   "metadata": {
    "collapsed": false,
    "scrolled": true
   },
   "outputs": [
    {
     "data": {
      "text/plain": [
       "(1,.,.) = \n",
       "   1   2   3   4\n",
       "   5   6   7   8\n",
       "   9  10  11  12\n",
       "\n",
       "(2,.,.) = \n",
       "   1   2   3   4\n",
       "   5   6   7   8\n",
       "   9  10  11  12\n",
       "[torch.CudaTensor of size 2x3x4]\n",
       "\n"
      ]
     },
     "execution_count": 1,
     "metadata": {},
     "output_type": "execute_result"
    },
    {
     "data": {
      "text/plain": [
       "(1,.,.) = \n",
       "   0   0   0   0   0\n",
       "   0   1   3   6  10\n",
       "   0   6  14  24  36\n",
       "   0  15  33  54  78\n",
       "\n",
       "(2,.,.) = \n",
       "   0   0   0   0   0\n",
       "   0   1   3   6  10\n",
       "   0   6  14  24  36\n",
       "   0  15  33  54  78\n",
       "[torch.CudaTensor of size 2x4x5]\n",
       "\n"
      ]
     },
     "execution_count": 1,
     "metadata": {},
     "output_type": "execute_result"
    }
   ],
   "source": [
    "require 'cutorch'\n",
    "require 'IntegralSmartNorm'\n",
    "\n",
    "t = torch.CudaTensor{{1,2,3,4}, {5,6,7,8}, {9,10,11,12}}:view(1, 3, 4):repeatTensor(2, 1, 1)\n",
    "imgGPU = t\n",
    "imgGPUorig = t:clone()\n",
    "print(t)\n",
    "res = torch.CudaTensor(2, 4, 5)\n",
    "tmp = res:clone()\n",
    "integralCUDA(t, res, tmp)\n",
    "print(res) -- :view(5, 2*4)"
   ]
  }
 ],
 "metadata": {
  "kernelspec": {
   "display_name": "iTorch",
   "language": "lua",
   "name": "itorch"
  },
  "language_info": {
   "name": "lua",
   "version": "5.1"
  }
 },
 "nbformat": 4,
 "nbformat_minor": 1
}
