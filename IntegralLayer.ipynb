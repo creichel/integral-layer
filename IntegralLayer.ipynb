{
 "cells": [
  {
   "cell_type": "code",
   "execution_count": 1,
   "metadata": {
    "collapsed": false
   },
   "outputs": [],
   "source": [
    "require 'nn'\n",
    "\n",
    "torch.setdefaulttensortype('torch.FloatTensor')\n",
    "\n",
    "Integral, parent = torch.class('nn.Integral', 'nn.Module')"
   ]
  },
  {
   "cell_type": "code",
   "execution_count": 3,
   "metadata": {
    "collapsed": false
   },
   "outputs": [],
   "source": [
    "-- nn.Integral definition\n",
    "\n",
    "cv = require 'cv'\n",
    "require 'cv.imgproc'\n",
    "require 'cv.highgui'\n",
    "\n",
    "function Integral:__init(nWindows, h, w)\n",
    "    parent.__init(self)\n",
    "    self.nWindows, self.h, self.w = nWindows, h, w\n",
    "    self.output = torch.Tensor(self.nWindows, h, w)\n",
    "    self:reset()\n",
    "    self:zeroGradParameters()\n",
    "end\n",
    "\n",
    "-- renew normalization coeffs\n",
    "function Integral:recalculateArea()\n",
    "    for i = 1,self.nWindows do\n",
    "        self.areaCoeff[i] = \n",
    "            1 / ((self.xMax[i]-self.xMin[i]+1)*(self.yMax[i]-self.yMin[i]+1))\n",
    "    end\n",
    "end\n",
    "\n",
    "function Integral:reset()\n",
    "    -- the only parameters of the module\n",
    "    self.xMin = torch.round((torch.rand(self.nWindows) - 0.5) * (2 * self.h * 0.3))\n",
    "    self.yMin = torch.round((torch.rand(self.nWindows) - 0.5) * (2 * self.w * 0.3))\n",
    "    self.xMax = torch.Tensor(self.nWindows)\n",
    "    self.yMax = torch.Tensor(self.nWindows)\n",
    "    \n",
    "    for i = 1,self.nWindows do\n",
    "        self.xMax[i] = torch.round(torch.uniform(self.xMin[i] + self.h * 0.05, self.xMin[i] + self.h * 0.25))\n",
    "        self.yMax[i] = torch.round(torch.uniform(self.yMin[i] + self.w * 0.05, self.yMin[i] + self.w * 0.25))\n",
    "    end\n",
    "    \n",
    "    --[[do\n",
    "        -- strict initialization for debugging\n",
    "        self.xMin[1] = 0\n",
    "        self.xMax[1] = 0\n",
    "        self.yMin[1] = 0\n",
    "        self.yMax[1] = 0\n",
    "\n",
    "        for i = 2,self.nWindows do\n",
    "            self.xMin[i] = self.xMin[i-1] - 3\n",
    "            self.xMax[i] = self.xMax[i-1] + 3\n",
    "            self.yMin[i] = self.yMin[i-1] - 3\n",
    "            self.yMax[i] = self.yMax[i-1] + 3\n",
    "        end\n",
    "    end]]\n",
    "    \n",
    "    -- area to normalize over\n",
    "    self.areaCoeff = torch.Tensor(self.nWindows)\n",
    "    self:recalculateArea()\n",
    "    \n",
    "    -- loss gradients wrt module's parameters\n",
    "    self.gradXMin = torch.zeros(self.xMin:size())\n",
    "    self.gradYMin = torch.zeros(self.xMin:size())\n",
    "    self.gradXMax = torch.zeros(self.xMin:size())\n",
    "    self.gradYMax = torch.zeros(self.xMin:size())\n",
    "end\n",
    "\n",
    "function Integral:parameters()\n",
    "    local params = {self.xMin, self.xMax, self.yMin, self.yMax}\n",
    "    local gradParams = {self.gradXMin, self.gradXMax, self.gradYMin, self.gradYMax}\n",
    "    return params, gradParams\n",
    "end\n",
    "\n",
    "local function round_towards_zero(x)\n",
    "    if x >= 0 then return math.floor(x) \n",
    "    else return math.floor(x) end\n",
    "end\n",
    "\n",
    "function Integral:updateOutput(input)\n",
    "    if type(input) == 'number' then print(input) end\n",
    "    if input:nDimension() ~= 2 then\n",
    "        error('wrong input:nDimension()')\n",
    "    end\n",
    "    \n",
    "--     self.output:fill(input:max())\n",
    "    \n",
    "    assert(input:size(1) == self.h and input:size(2) == self.w)\n",
    "    \n",
    "--     local xMaxInt, xMinInt = math.floor(self.xMax), math.ceil(self.xMin)\n",
    "--     local xMaxDiff, xMinDiff = self.xMax-xMaxInt, self.xMin-xMinInt\n",
    "--     local yMaxInt, yMinInt = math.floor(self.yMax), math.ceil(self.yMin)\n",
    "--     local yMaxDiff, yMinDiff = self.yMax-yMaxInt, self.yMin-yMinInt\n",
    "    \n",
    "    self.integral = cv.integral{input}\n",
    "    \n",
    "    for planeIdx = 1,self.nWindows do\n",
    "        \n",
    "        -- round towards zero (?)\n",
    "        local xMinCurr = round_towards_zero(self.xMin[planeIdx])\n",
    "        local xMaxCurr = round_towards_zero(self.xMax[planeIdx])+1\n",
    "        local yMinCurr = round_towards_zero(self.yMin[planeIdx])\n",
    "        local yMaxCurr = round_towards_zero(self.yMax[planeIdx])+1\n",
    "        \n",
    "        -- round down (?)\n",
    "--         local xMinCurr = torch.round(self.xMin[planeIdx] - 0.499)\n",
    "--         local xMaxCurr = torch.round(self.xMax[planeIdx] - 0.499)+1\n",
    "--         local yMinCurr = torch.round(self.yMin[planeIdx] - 0.499)\n",
    "--         local yMaxCurr = torch.round(self.yMax[planeIdx] - 0.499)+1\n",
    "        \n",
    "        local outPlane = self.output[planeIdx]\n",
    "        \n",
    "        local outData = torch.data(outPlane)\n",
    "        local intData = torch.data(self.integral)\n",
    "        \n",
    "        -- must add 1 to xMax/yMax/xMin/yMin due to OpenCV's\n",
    "        -- `integral()` behavior. Namely, I(x,0) and I(0,y) are\n",
    "        -- always 0 (so it's a C-style array sum).\n",
    "        \n",
    "        for x = 0,self.h-1 do\n",
    "            for y = 0,self.w-1 do\n",
    "                outData[x*self.w + y] = 0\n",
    "                    + intData[math.max(0,math.min(x+xMaxCurr,self.h))*(self.w+1) \n",
    "                        + math.max(0,math.min(y+yMaxCurr,self.w))]\n",
    "                    - intData[math.max(0,math.min(x+xMinCurr,self.h))*(self.w+1)\n",
    "                        + math.max(0,math.min(y+yMaxCurr,self.w))]\n",
    "                    - intData[math.max(0,math.min(x+xMaxCurr,self.h))*(self.w+1)\n",
    "                        + math.max(0,math.min(y+yMinCurr,self.w))]\n",
    "                    + intData[math.max(0,math.min(x+xMinCurr,self.h))*(self.w+1)\n",
    "                        + math.max(0,math.min(y+yMinCurr,self.w))]\n",
    "            end\n",
    "        end\n",
    "        \n",
    "        outPlane:mul(self.areaCoeff[planeIdx])\n",
    "    end\n",
    "    \n",
    "    return self.output\n",
    "end\n",
    "\n",
    "\n",
    "function Integral:updateGradInput(input, gradOutput)\n",
    "    -- never call :backward() on backpropHelper!\n",
    "    self.backpropHelper = self.backpropHelper or nn.Integral(1, self.h, self.w)\n",
    "    \n",
    "    if self.gradInput then\n",
    "        self.gradInput:resize(self.h, self.w):zero()\n",
    "        \n",
    "        for nWindow = 1,self.nWindows do\n",
    "            self.backpropHelper.xMin[1] = -self.xMax[nWindow]\n",
    "            self.backpropHelper.xMax[1] = -self.xMin[nWindow]\n",
    "            self.backpropHelper.yMin[1] = -self.yMax[nWindow]\n",
    "            self.backpropHelper.yMax[1] = -self.yMin[nWindow]\n",
    "            self.backpropHelper:recalculateArea()\n",
    "            \n",
    "            self.gradInput:add(self.backpropHelper:forward(gradOutput[nWindow]):squeeze())\n",
    "        end\n",
    "        \n",
    "        return self.gradInput\n",
    "    end\n",
    "end\n",
    "\n",
    "function Integral:accGradParameters(input, gradOutput, scale)\n",
    "    scale = scale or 1\n",
    "    \n",
    "    for planeIdx = 1,self.nWindows do\n",
    "        local outputDot = torch.dot(self.output[planeIdx], gradOutput[planeIdx])\n",
    "        \n",
    "        -- round towards zero (?)\n",
    "        -- and +1 because OpenCV's integral adds extra row and col\n",
    "        local xMinCurr = round_towards_zero(self.xMin[planeIdx])+1\n",
    "        local xMaxCurr = round_towards_zero(self.xMax[planeIdx])+1\n",
    "        local yMinCurr = round_towards_zero(self.yMin[planeIdx])+1\n",
    "        local yMaxCurr = round_towards_zero(self.yMax[planeIdx])+1\n",
    "        \n",
    "        -- round down (?)\n",
    "--         local xMinCurr = torch.round(self.xMin[planeIdx] - 0.499)+1\n",
    "--         local xMaxCurr = torch.round(self.xMax[planeIdx] - 0.499)+1\n",
    "--         local yMinCurr = torch.round(self.yMin[planeIdx] - 0.499)+1\n",
    "--         local yMaxCurr = torch.round(self.yMax[planeIdx] - 0.499)+1\n",
    "        \n",
    "        local gradOutData = torch.data(gradOutput[planeIdx])\n",
    "        local intData = torch.data(self.integral)\n",
    "        \n",
    "        -- deltas of dOut(x,y) (sum over one window)\n",
    "        local xMaxDelta, xMinDelta = 0, 0\n",
    "        local yMaxDelta, yMinDelta = 0, 0\n",
    "        \n",
    "        for x = 1,self.h do\n",
    "            for y = 1,self.w do\n",
    "                xMaxDelta = xMaxDelta\n",
    "                    +(intData[math.max(0,math.min(x+xMaxCurr+1,self.h))*(self.w+1) \n",
    "                        + math.max(0,math.min(y+yMaxCurr,  self.w))]\n",
    "                    - intData[math.max(0,math.min(x+xMaxCurr  ,self.h))*(self.w+1)\n",
    "                        + math.max(0,math.min(y+yMaxCurr,  self.w))]\n",
    "                    - intData[math.max(0,math.min(x+xMaxCurr+1,self.h))*(self.w+1)\n",
    "                        + math.max(0,math.min(y+yMinCurr-1,self.w))]\n",
    "                    + intData[math.max(0,math.min(x+xMaxCurr  ,self.h))*(self.w+1)\n",
    "                        + math.max(0,math.min(y+yMinCurr-1,self.w))] )\n",
    "                    * gradOutData[(x-1)*self.w + (y-1)]\n",
    "                \n",
    "                xMinDelta = xMinDelta\n",
    "                    +(intData[math.max(0,math.min(x+xMinCurr-1,self.h))*(self.w+1) \n",
    "                        + math.max(0,math.min(y+yMaxCurr,  self.w))]\n",
    "                    - intData[math.max(0,math.min(x+xMinCurr  ,self.h))*(self.w+1)\n",
    "                        + math.max(0,math.min(y+yMaxCurr,  self.w))]\n",
    "                    - intData[math.max(0,math.min(x+xMinCurr-1,self.h))*(self.w+1)\n",
    "                        + math.max(0,math.min(y+yMinCurr-1,self.w))]\n",
    "                    + intData[math.max(0,math.min(x+xMinCurr  ,self.h))*(self.w+1)\n",
    "                        + math.max(0,math.min(y+yMinCurr-1,self.w))] )\n",
    "                    * gradOutData[(x-1)*self.w + (y-1)]\n",
    "                \n",
    "                yMaxDelta = yMaxDelta\n",
    "                    +(intData[math.max(0,math.min(x+xMaxCurr,  self.h))*(self.w+1) \n",
    "                        + math.max(0,math.min(y+yMaxCurr+1,self.w))]\n",
    "                    - intData[math.max(0,math.min(x+xMaxCurr,  self.h))*(self.w+1)\n",
    "                        + math.max(0,math.min(y+yMaxCurr  ,self.w))]\n",
    "                    - intData[math.max(0,math.min(x+xMinCurr-1,self.h))*(self.w+1)\n",
    "                        + math.max(0,math.min(y+yMaxCurr+1,self.w))]\n",
    "                    + intData[math.max(0,math.min(x+xMinCurr-1,self.h))*(self.w+1)\n",
    "                        + math.max(0,math.min(y+yMaxCurr,  self.w))] )\n",
    "                    * gradOutData[(x-1)*self.w + (y-1)]\n",
    "                \n",
    "                yMinDelta = yMinDelta\n",
    "                    +(intData[math.max(0,math.min(x+xMaxCurr,  self.h))*(self.w+1) \n",
    "                        + math.max(0,math.min(y+yMinCurr-1,self.w))]\n",
    "                    - intData[math.max(0,math.min(x+xMaxCurr,  self.h))*(self.w+1)\n",
    "                        + math.max(0,math.min(y+yMinCurr  ,self.w))]\n",
    "                    - intData[math.max(0,math.min(x+xMinCurr-1,self.h))*(self.w+1)\n",
    "                        + math.max(0,math.min(y+yMinCurr-1,self.w))]\n",
    "                    + intData[math.max(0,math.min(x+xMinCurr-1,self.h))*(self.w+1)\n",
    "                        + math.max(0,math.min(y+yMinCurr,  self.w))] )\n",
    "                    * gradOutData[(x-1)*self.w + (y-1)]\n",
    "            end\n",
    "        end\n",
    "        \n",
    "        self.gradXMax[planeIdx] = self.gradXMax[planeIdx] + scale * (\n",
    "            xMaxDelta * self.areaCoeff[planeIdx] -\n",
    "            outputDot / (self.xMax[planeIdx] - self.xMin[planeIdx] + 1))\n",
    "        self.gradXMin[planeIdx] = self.gradXMin[planeIdx] + scale * (\n",
    "            xMinDelta * self.areaCoeff[planeIdx] +\n",
    "            outputDot / (self.xMax[planeIdx] - self.xMin[planeIdx] + 1))\n",
    "        self.gradYMax[planeIdx] = self.gradYMax[planeIdx] + scale * (\n",
    "            yMaxDelta * self.areaCoeff[planeIdx] -\n",
    "            outputDot / (self.yMax[planeIdx] - self.yMin[planeIdx] + 1))\n",
    "        self.gradYMin[planeIdx] = self.gradYMin[planeIdx] + scale * (\n",
    "            yMinDelta * self.areaCoeff[planeIdx] +\n",
    "            outputDot / (self.yMax[planeIdx] - self.yMin[planeIdx] + 1))\n",
    "    end\n",
    "end\n",
    "\n",
    "function Integral:zeroGradParameters()\n",
    "    self.gradXMin:zero()\n",
    "    self.gradYMin:zero()\n",
    "    self.gradXMax:zero()\n",
    "    self.gradYMax:zero()\n",
    "end\n",
    "\n",
    "function Integral:updateParameters(lr)\n",
    "    self.xMin:add(lr, self.gradXMin)\n",
    "    self.yMin:add(lr, self.gradYMin)\n",
    "    self.xMax:add(lr, self.gradXMax)\n",
    "    self.yMax:add(lr, self.gradYMax)\n",
    "    \n",
    "    self:recalculateArea()\n",
    "end"
   ]
  },
  {
   "cell_type": "code",
   "execution_count": 4,
   "metadata": {
    "collapsed": false
   },
   "outputs": [],
   "source": [
    "require 'cv.highgui'\n",
    "require 'image'\n",
    "\n",
    "res = nn.Integral(12, 512, 512):forward(image.lena():mean(1):squeeze())"
   ]
  },
  {
   "cell_type": "code",
   "execution_count": 5,
   "metadata": {
    "collapsed": false
   },
   "outputs": [],
   "source": [
    "cv.namedWindow{'w'}\n",
    "cv.imshow{'w', image.lena():mean(1):squeeze()}\n",
    "cv.waitKey{0}\n",
    "cv.imshow{'w', image.lena():mean(1):squeeze()}\n",
    "cv.waitKey{0}\n",
    "cv.imshow{'w', image.lena():mean(1):squeeze()}\n",
    "cv.waitKey{0}\n",
    "\n",
    "for i = 1,res:size(1) do\n",
    "    cv.imshow{'w', cv.applyColorMap{\n",
    "            (res[i] / res[i]:max() * 255):byte(), nil, cv.COLORMAP_HOT}}\n",
    "    cv.waitKey{0}\n",
    "end\n",
    "\n",
    "cv.destroyAllWindows{}"
   ]
  },
  {
   "cell_type": "code",
   "execution_count": 6,
   "metadata": {
    "collapsed": true
   },
   "outputs": [],
   "source": [
    "res = nil\n",
    "collectgarbage()"
   ]
  },
  {
   "cell_type": "markdown",
   "metadata": {},
   "source": [
    "Try MNIST classification:"
   ]
  },
  {
   "cell_type": "code",
   "execution_count": 4,
   "metadata": {
    "collapsed": false
   },
   "outputs": [],
   "source": [
    "mnist = require 'mnist'\n",
    "\n",
    "train = mnist.traindataset()\n",
    "test = mnist.testdataset()\n",
    "\n",
    "train.data = train.data:float():div(255)\n",
    "test.data = test.data:float():div(255)\n",
    "\n",
    "mean = train.data:mean()\n",
    "train.data:add(-mean)\n",
    "test.data:add(-mean)\n",
    "\n",
    "std = train.data:std()\n",
    "train.data:div(std)\n",
    "test.data:div(std)\n",
    "\n",
    "train.label:add(1)\n",
    "test.label:add(1)"
   ]
  },
  {
   "cell_type": "code",
   "execution_count": 5,
   "metadata": {
    "collapsed": true
   },
   "outputs": [],
   "source": [
    "cv = require 'cv'\n",
    "require 'cv.videoio'\n",
    "require 'cv.imgproc'\n",
    "\n",
    "local WindowDebugger = torch.class('WindowDebugger')\n",
    "\n",
    "do\n",
    "    function WindowDebugger:__init(path)\n",
    "        if path then\n",
    "            self.h = torch.load(path)\n",
    "        else\n",
    "            local h = {}\n",
    "            h.xMin, h.xMax = {}, {}\n",
    "            h.yMin, h.yMax = {}, {}\n",
    "            self.h = h\n",
    "        end\n",
    "    end\n",
    "    \n",
    "    function WindowDebugger:save(path)\n",
    "        torch.save(path, self.h)\n",
    "    end\n",
    "    \n",
    "    function WindowDebugger:add(intModule)\n",
    "        self.h.xMin[#self.h.xMin+1] = intModule.xMin:clone()\n",
    "        self.h.xMax[#self.h.xMax+1] = intModule.xMax:clone()\n",
    "        self.h.yMin[#self.h.yMin+1] = intModule.yMin:clone()\n",
    "        self.h.yMax[#self.h.yMax+1] = intModule.yMax:clone()\n",
    "        self.h.h = intModule.h\n",
    "        self.h.w = intModule.w\n",
    "    end\n",
    "    \n",
    "    -- refRects: {{xMin, yMin, xMax, yMax}, {xMin, yMin, xMax, yMax}, ...}\n",
    "    function WindowDebugger:exportVideo(path, refRects)\n",
    "        local vw = cv.VideoWriter{\n",
    "                path, cv.VideoWriter.fourcc{'H','2','6','4'}, \n",
    "                12, {100*2*1.5, 100*2*1.5}}\n",
    "        assert(vw:isOpened())\n",
    "        \n",
    "        local colors = {\n",
    "            {255,   0,   0},\n",
    "            {  0, 255,   0},\n",
    "            {  0,   0, 255},\n",
    "            {255, 255, 255},\n",
    "            {255, 255,   0},\n",
    "            {255,   0, 255},\n",
    "            {  0, 255, 255},\n",
    "            {130, 130, 130},\n",
    "            {255,  60, 160},\n",
    "            { 60, 170, 255}\n",
    "        }\n",
    "        \n",
    "        local imH, imW = 100, 100\n",
    "        local frame = torch.ByteTensor(imH*2, imW*2, 3)\n",
    "        local nRects = self.h.xMin[1]:nElement()\n",
    "        \n",
    "        for i = 1,#self.h.xMin do\n",
    "            frame:zero()\n",
    "            frame[frame:size(1) / 2]:fill(80)\n",
    "            frame[{{}, frame:size(2) / 2}]:fill(80)\n",
    "            \n",
    "            for rect = 1,nRects do\n",
    "                local thickness = 1\n",
    "                \n",
    "                if \n",
    "                    self.h.xMin[i][rect] > self.h.xMax[i][rect] or\n",
    "                    self.h.yMin[i][rect] > self.h.yMax[i][rect]\n",
    "                then\n",
    "                    thickness = -1\n",
    "                end\n",
    "                    \n",
    "                cv.rectangle{frame, \n",
    "                    {self.h.xMin[i][rect]/self.h.h*imH + imH, self.h.yMin[i][rect]/self.h.w*imW + imW},\n",
    "                    {self.h.xMax[i][rect]/self.h.h*imH + imH, self.h.yMax[i][rect]/self.h.w*imW + imW},\n",
    "                    colors[(rect-1) % #colors + 1],\n",
    "                    thickness\n",
    "                }\n",
    "            end\n",
    "            \n",
    "            if refRects then\n",
    "                for i,rect in ipairs(refRects) do\n",
    "                    cv.rectangle{frame, \n",
    "                        {rect[1]/self.h.h*imH + imH, rect[2]/self.h.w*imW + imW},\n",
    "                        {rect[3]/self.h.h*imH + imH, rect[4]/self.h.w*imW + imW},\n",
    "                        {100, 100, 0},\n",
    "                        1\n",
    "                    }\n",
    "                end\n",
    "            end\n",
    "            \n",
    "            vw:write{cv.resize{frame, fx=1.5, fy=1.5}}\n",
    "        end\n",
    "        \n",
    "        vw:release{}\n",
    "    end\n",
    "end"
   ]
  },
  {
   "cell_type": "code",
   "execution_count": 6,
   "metadata": {
    "collapsed": false
   },
   "outputs": [],
   "source": [
    "windowDebugger = WindowDebugger()"
   ]
  },
  {
   "cell_type": "code",
   "execution_count": 6,
   "metadata": {
    "collapsed": true
   },
   "outputs": [],
   "source": [
    "local nWindows = 50\n",
    "local nHaar = 128\n",
    "\n",
    "net = nn.Sequential()\n",
    "-- net:add(nn.SpatialConvolutionMM(1, 6, 5, 5, 1, 1, 2, 2))\n",
    "net:add(nn.Integral(nWindows, 28, 28))\n",
    "net:add(nn.SpatialConvolutionMM(nWindows, nHaar, 1, 1, 1, 1))\n",
    "net:add(nn.ReLU())\n",
    "net:add(nn.Reshape(nHaar*28*28))\n",
    "net:add(nn.Linear(nHaar*28*28, 10))"
   ]
  },
  {
   "cell_type": "code",
   "execution_count": 173,
   "metadata": {
    "collapsed": false
   },
   "outputs": [],
   "source": [
    "int = net:get(1)\n",
    "int.xMin = torch.Tensor{-10, -10, -10, -3, -3, -3,  4,  4,  4} * 1.2\n",
    "int.xMax = torch.Tensor{- 4, - 4, - 4,  3,  3,  3, 10, 10, 10} * 1.2\n",
    "int.yMin = torch.Tensor{-10, - 3,   4,-10, -3,  4,-10, -3,  4} * 1.2\n",
    "int.yMax = torch.Tensor{- 4,   3,  10,- 4,  3, 10,- 4,  3, 10} * 1.2\n",
    "int:recalculateArea()"
   ]
  },
  {
   "cell_type": "code",
   "execution_count": 8,
   "metadata": {
    "collapsed": true
   },
   "outputs": [],
   "source": [
    "grads = {}\n",
    "for i = 1,10 do\n",
    "    grads[i] = {xMin={}, xMax={}, yMin={}, yMax={}}\n",
    "end"
   ]
  },
  {
   "cell_type": "code",
   "execution_count": 9,
   "metadata": {
    "collapsed": false
   },
   "outputs": [],
   "source": [
    "require 'optim'\n",
    "\n",
    "datasetIdx = 1\n",
    "\n",
    "params, gradParams = net:getParameters()\n",
    "\n",
    "optimState = {\n",
    "    learningRate = 100e-3,\n",
    "--     momentum = 0.9,\n",
    "--     nesterov = true,\n",
    "--     dampening = 0\n",
    "}"
   ]
  },
  {
   "cell_type": "code",
   "execution_count": 10,
   "metadata": {
    "collapsed": true
   },
   "outputs": [],
   "source": [
    "optimState.learningRate = 1e-3"
   ]
  },
  {
   "cell_type": "code",
   "execution_count": 148,
   "metadata": {
    "collapsed": false,
    "scrolled": true
   },
   "outputs": [
    {
     "data": {
      "text/plain": [
       "Iter 1, error: 0.0014886674313026\t\n"
      ]
     },
     "execution_count": 148,
     "metadata": {},
     "output_type": "execute_result"
    },
    {
     "data": {
      "text/plain": [
       "Iter 2, error: 0.002198062388177\t\n"
      ]
     },
     "execution_count": 148,
     "metadata": {},
     "output_type": "execute_result"
    },
    {
     "data": {
      "text/plain": [
       "Iter 3, error: 0.053895613956752\t\n"
      ]
     },
     "execution_count": 148,
     "metadata": {},
     "output_type": "execute_result"
    },
    {
     "data": {
      "text/plain": [
       "Iter 4, error: 0.00094880509710775\t\n"
      ]
     },
     "execution_count": 148,
     "metadata": {},
     "output_type": "execute_result"
    },
    {
     "data": {
      "text/plain": [
       "Iter 5, error: 0.067712552547964\t\n"
      ]
     },
     "execution_count": 148,
     "metadata": {},
     "output_type": "execute_result"
    },
    {
     "data": {
      "text/plain": [
       "Iter 6, error: 0.065023867400676\t\n"
      ]
     },
     "execution_count": 148,
     "metadata": {},
     "output_type": "execute_result"
    },
    {
     "data": {
      "text/plain": [
       "Iter 7, error: 0.00436736280935\t\n"
      ]
     },
     "execution_count": 148,
     "metadata": {},
     "output_type": "execute_result"
    },
    {
     "data": {
      "text/plain": [
       "Iter 8, error: 0.0081664271875984\t\n"
      ]
     },
     "execution_count": 148,
     "metadata": {},
     "output_type": "execute_result"
    },
    {
     "data": {
      "text/plain": [
       "Iter 9, error: 0.031113742157788\t\n"
      ]
     },
     "execution_count": 148,
     "metadata": {},
     "output_type": "execute_result"
    },
    {
     "data": {
      "text/plain": [
       "Iter 10, error: 0.0036481735325327\t\n"
      ]
     },
     "execution_count": 148,
     "metadata": {},
     "output_type": "execute_result"
    },
    {
     "data": {
      "text/plain": [
       "Iter 11, error: 0.026165540303429\t"
      ]
     },
     "execution_count": 148,
     "metadata": {},
     "output_type": "execute_result"
    },
    {
     "data": {
      "text/plain": [
       "\n"
      ]
     },
     "execution_count": 148,
     "metadata": {},
     "output_type": "execute_result"
    },
    {
     "data": {
      "text/plain": [
       "Iter 12, error: 0.0021317406286931\t\n"
      ]
     },
     "execution_count": 148,
     "metadata": {},
     "output_type": "execute_result"
    },
    {
     "data": {
      "text/plain": [
       "Iter 13, error: 0.020321000293118\t\n"
      ]
     },
     "execution_count": 148,
     "metadata": {},
     "output_type": "execute_result"
    },
    {
     "data": {
      "text/plain": [
       "Iter 14, error: 0.0014874920908035\t\n"
      ]
     },
     "execution_count": 148,
     "metadata": {},
     "output_type": "execute_result"
    },
    {
     "data": {
      "text/plain": [
       "Iter 15, error: 0.05349588943351\t\n"
      ]
     },
     "execution_count": 148,
     "metadata": {},
     "output_type": "execute_result"
    },
    {
     "data": {
      "text/plain": [
       "Iter 16, error: 0.07489496528456\t\n"
      ]
     },
     "execution_count": 148,
     "metadata": {},
     "output_type": "execute_result"
    },
    {
     "data": {
      "text/plain": [
       "Iter 17, error: 0.0057158034302718\t\n"
      ]
     },
     "execution_count": 148,
     "metadata": {},
     "output_type": "execute_result"
    },
    {
     "data": {
      "text/plain": [
       "Iter 18, error: 0.018146610881704\t\n"
      ]
     },
     "execution_count": 148,
     "metadata": {},
     "output_type": "execute_result"
    },
    {
     "data": {
      "text/plain": [
       "Iter 19, error: 0.030499575868667\t\n"
      ]
     },
     "execution_count": 148,
     "metadata": {},
     "output_type": "execute_result"
    },
    {
     "data": {
      "text/plain": [
       "Iter 20, error: 0.086396215302101\t\n"
      ]
     },
     "execution_count": 148,
     "metadata": {},
     "output_type": "execute_result"
    },
    {
     "data": {
      "text/plain": [
       "Iter 21, error: 0.0049179045582257\t\n"
      ]
     },
     "execution_count": 148,
     "metadata": {},
     "output_type": "execute_result"
    },
    {
     "data": {
      "text/plain": [
       "Iter 22, error: 0.0075644275079849\t\n"
      ]
     },
     "execution_count": 148,
     "metadata": {},
     "output_type": "execute_result"
    },
    {
     "data": {
      "text/plain": [
       "Iter 23, error: 0.067906832676643\t\n"
      ]
     },
     "execution_count": 148,
     "metadata": {},
     "output_type": "execute_result"
    },
    {
     "data": {
      "text/plain": [
       "Iter 24, error: 0.04986261127097\t\n"
      ]
     },
     "execution_count": 148,
     "metadata": {},
     "output_type": "execute_result"
    },
    {
     "data": {
      "text/plain": [
       "Iter 25, error: 0.0018039496210219\t\n"
      ]
     },
     "execution_count": 148,
     "metadata": {},
     "output_type": "execute_result"
    },
    {
     "data": {
      "text/plain": [
       "Iter 26, error: 0.083621667749007\t\n"
      ]
     },
     "execution_count": 148,
     "metadata": {},
     "output_type": "execute_result"
    },
    {
     "data": {
      "text/plain": [
       "Iter 27, error: 0.39038918674706\t\n"
      ]
     },
     "execution_count": 148,
     "metadata": {},
     "output_type": "execute_result"
    },
    {
     "data": {
      "text/plain": [
       "Iter 28, error: 0.042741438780092\t\n"
      ]
     },
     "execution_count": 148,
     "metadata": {},
     "output_type": "execute_result"
    },
    {
     "data": {
      "text/plain": [
       "Iter 29, error: 0.004559322707671\t\n"
      ]
     },
     "execution_count": 148,
     "metadata": {},
     "output_type": "execute_result"
    },
    {
     "data": {
      "text/plain": [
       "Iter 30, error: 0.1292347343718\t\n"
      ]
     },
     "execution_count": 148,
     "metadata": {},
     "output_type": "execute_result"
    },
    {
     "data": {
      "text/plain": [
       "Iter 31, error: 0.021359368551511\t\n"
      ]
     },
     "execution_count": 148,
     "metadata": {},
     "output_type": "execute_result"
    },
    {
     "data": {
      "text/plain": [
       "Iter 32, error: 0.0022257025397243\t\n"
      ]
     },
     "execution_count": 148,
     "metadata": {},
     "output_type": "execute_result"
    },
    {
     "data": {
      "text/plain": [
       "Iter 33, error: 0.012426571699732\t\n"
      ]
     },
     "execution_count": 148,
     "metadata": {},
     "output_type": "execute_result"
    },
    {
     "data": {
      "text/plain": [
       "Iter 34, error: 0.02627057105177\t\n"
      ]
     },
     "execution_count": 148,
     "metadata": {},
     "output_type": "execute_result"
    },
    {
     "data": {
      "text/plain": [
       "Iter 35, error: 0.0015436078332602\t\n"
      ]
     },
     "execution_count": 148,
     "metadata": {},
     "output_type": "execute_result"
    },
    {
     "data": {
      "text/plain": [
       "Iter 36, error: 0.18952392781768\t\n"
      ]
     },
     "execution_count": 148,
     "metadata": {},
     "output_type": "execute_result"
    },
    {
     "data": {
      "text/plain": [
       "Iter 37, error: 0.0045216271076708\t\n"
      ]
     },
     "execution_count": 148,
     "metadata": {},
     "output_type": "execute_result"
    },
    {
     "data": {
      "text/plain": [
       "Iter 38, error: 0.27327182071772\t\n"
      ]
     },
     "execution_count": 148,
     "metadata": {},
     "output_type": "execute_result"
    },
    {
     "data": {
      "text/plain": [
       "Iter 39, error: 0.0090772839353738\t\n"
      ]
     },
     "execution_count": 148,
     "metadata": {},
     "output_type": "execute_result"
    },
    {
     "data": {
      "text/plain": [
       "Iter 40, error: 0.0032260211812123\t\n"
      ]
     },
     "execution_count": 148,
     "metadata": {},
     "output_type": "execute_result"
    },
    {
     "data": {
      "text/plain": [
       "Iter 41, error: 0.0069068032148671\t\n"
      ]
     },
     "execution_count": 148,
     "metadata": {},
     "output_type": "execute_result"
    },
    {
     "data": {
      "text/plain": [
       "Iter 42, error: 0.0051119087203165\t\n"
      ]
     },
     "execution_count": 148,
     "metadata": {},
     "output_type": "execute_result"
    },
    {
     "data": {
      "text/plain": [
       "Iter 43, error: 0.01430564163059\t\n"
      ]
     },
     "execution_count": 148,
     "metadata": {},
     "output_type": "execute_result"
    },
    {
     "data": {
      "text/plain": [
       "Iter 44, error: 0.0057370024547829\t\n"
      ]
     },
     "execution_count": 148,
     "metadata": {},
     "output_type": "execute_result"
    },
    {
     "data": {
      "text/plain": [
       "Iter 45, error: 0.0030647621927611\t\n"
      ]
     },
     "execution_count": 148,
     "metadata": {},
     "output_type": "execute_result"
    },
    {
     "data": {
      "text/plain": [
       "Iter 46, error: 0.099266722706391\t\n"
      ]
     },
     "execution_count": 148,
     "metadata": {},
     "output_type": "execute_result"
    },
    {
     "data": {
      "text/plain": [
       "Iter 47, error: 0.10003509372974\t\n"
      ]
     },
     "execution_count": 148,
     "metadata": {},
     "output_type": "execute_result"
    },
    {
     "data": {
      "text/plain": [
       "Iter 48, error: 0.011701109206398\t\n"
      ]
     },
     "execution_count": 148,
     "metadata": {},
     "output_type": "execute_result"
    },
    {
     "data": {
      "text/plain": [
       "Iter 49, error: 0.035906634006985\t\n"
      ]
     },
     "execution_count": 148,
     "metadata": {},
     "output_type": "execute_result"
    },
    {
     "data": {
      "text/plain": [
       "Iter 50, error: 0.0066267020167097\t\n"
      ]
     },
     "execution_count": 148,
     "metadata": {},
     "output_type": "execute_result"
    },
    {
     "data": {
      "text/plain": [
       "Iter 51, error: 0.0047322087277342\t\n"
      ]
     },
     "execution_count": 148,
     "metadata": {},
     "output_type": "execute_result"
    },
    {
     "data": {
      "text/plain": [
       "Iter 52, error: 0.036817032484253\t\n"
      ]
     },
     "execution_count": 148,
     "metadata": {},
     "output_type": "execute_result"
    },
    {
     "data": {
      "text/plain": [
       "Iter 53, error: 0.013408064442759\t\n"
      ]
     },
     "execution_count": 148,
     "metadata": {},
     "output_type": "execute_result"
    },
    {
     "data": {
      "text/plain": [
       "Iter 54, error: 0.00097049774625283\t\n"
      ]
     },
     "execution_count": 148,
     "metadata": {},
     "output_type": "execute_result"
    },
    {
     "data": {
      "text/plain": [
       "Iter 55, error: 0.0039905386323823\t\n"
      ]
     },
     "execution_count": 148,
     "metadata": {},
     "output_type": "execute_result"
    },
    {
     "data": {
      "text/plain": [
       "Iter 56, error: 0.0076416935281892\t\n"
      ]
     },
     "execution_count": 148,
     "metadata": {},
     "output_type": "execute_result"
    },
    {
     "data": {
      "text/plain": [
       "Iter 57, error: 0.058342099013582\t\n"
      ]
     },
     "execution_count": 148,
     "metadata": {},
     "output_type": "execute_result"
    },
    {
     "data": {
      "text/plain": [
       "Iter 58, error: 0.011136447763789\t\n"
      ]
     },
     "execution_count": 148,
     "metadata": {},
     "output_type": "execute_result"
    },
    {
     "data": {
      "text/plain": [
       "Iter 59, error: 0.27601058568854\t\n"
      ]
     },
     "execution_count": 148,
     "metadata": {},
     "output_type": "execute_result"
    },
    {
     "data": {
      "text/plain": [
       "Iter 60, error: 0.014266149192875\t\n"
      ]
     },
     "execution_count": 148,
     "metadata": {},
     "output_type": "execute_result"
    },
    {
     "data": {
      "text/plain": [
       "Iter 61, error: 0.0034692028206439\t\n"
      ]
     },
     "execution_count": 148,
     "metadata": {},
     "output_type": "execute_result"
    },
    {
     "data": {
      "text/plain": [
       "Iter 62, error: 0.089698471067172\t\n"
      ]
     },
     "execution_count": 148,
     "metadata": {},
     "output_type": "execute_result"
    },
    {
     "data": {
      "text/plain": [
       "Iter 63, error: 0.0077897121148516\t\n"
      ]
     },
     "execution_count": 148,
     "metadata": {},
     "output_type": "execute_result"
    },
    {
     "data": {
      "text/plain": [
       "Iter 64, error: 0.057521272231619\t\n"
      ]
     },
     "execution_count": 148,
     "metadata": {},
     "output_type": "execute_result"
    },
    {
     "data": {
      "text/plain": [
       "Iter 65, error: 0.0095896727532028\t\n"
      ]
     },
     "execution_count": 148,
     "metadata": {},
     "output_type": "execute_result"
    },
    {
     "data": {
      "text/plain": [
       "Iter 66, error: 0.21306753352632\t\n"
      ]
     },
     "execution_count": 148,
     "metadata": {},
     "output_type": "execute_result"
    },
    {
     "data": {
      "text/plain": [
       "Iter 67, error: 0.14840191077648\t\n"
      ]
     },
     "execution_count": 148,
     "metadata": {},
     "output_type": "execute_result"
    },
    {
     "data": {
      "text/plain": [
       "Iter 68, error: 0.17541013231507\t\n"
      ]
     },
     "execution_count": 148,
     "metadata": {},
     "output_type": "execute_result"
    },
    {
     "data": {
      "text/plain": [
       "Iter 69, error: 0.035334231978447\t\n"
      ]
     },
     "execution_count": 148,
     "metadata": {},
     "output_type": "execute_result"
    },
    {
     "data": {
      "text/plain": [
       "Iter 70, error: 0.14087357251369\t\n"
      ]
     },
     "execution_count": 148,
     "metadata": {},
     "output_type": "execute_result"
    },
    {
     "data": {
      "text/plain": [
       "Iter 71, error: 0.070966112180986\t\n"
      ]
     },
     "execution_count": 148,
     "metadata": {},
     "output_type": "execute_result"
    },
    {
     "data": {
      "text/plain": [
       "Iter 72, error: 0.24443349128312\t\n"
      ]
     },
     "execution_count": 148,
     "metadata": {},
     "output_type": "execute_result"
    },
    {
     "data": {
      "text/plain": [
       "Iter 73, error: 0.099992873718996\t\n"
      ]
     },
     "execution_count": 148,
     "metadata": {},
     "output_type": "execute_result"
    },
    {
     "data": {
      "text/plain": [
       "Iter 74, error: 0.049686035193656\t\n"
      ]
     },
     "execution_count": 148,
     "metadata": {},
     "output_type": "execute_result"
    },
    {
     "data": {
      "text/plain": [
       "Iter 75, error: 0.04611602114471\t\n"
      ]
     },
     "execution_count": 148,
     "metadata": {},
     "output_type": "execute_result"
    },
    {
     "data": {
      "text/plain": [
       "Iter 76, error: 0.12329825201688\t\n"
      ]
     },
     "execution_count": 148,
     "metadata": {},
     "output_type": "execute_result"
    },
    {
     "data": {
      "text/plain": [
       "Iter 77, error: 0.027219765768744\t\n"
      ]
     },
     "execution_count": 148,
     "metadata": {},
     "output_type": "execute_result"
    },
    {
     "data": {
      "text/plain": [
       "Iter 78, error: 0.0023223943508527\t\n"
      ]
     },
     "execution_count": 148,
     "metadata": {},
     "output_type": "execute_result"
    },
    {
     "data": {
      "text/plain": [
       "Iter 79, error: 0.078115801100378\t\n"
      ]
     },
     "execution_count": 148,
     "metadata": {},
     "output_type": "execute_result"
    },
    {
     "data": {
      "text/plain": [
       "Iter 80, error: 0.13463229516411\t\n"
      ]
     },
     "execution_count": 148,
     "metadata": {},
     "output_type": "execute_result"
    },
    {
     "data": {
      "text/plain": [
       "Iter 81, error: 0.0055678619378067\t\n"
      ]
     },
     "execution_count": 148,
     "metadata": {},
     "output_type": "execute_result"
    },
    {
     "data": {
      "text/plain": [
       "Iter 82, error: 0.027937232869777\t\n"
      ]
     },
     "execution_count": 148,
     "metadata": {},
     "output_type": "execute_result"
    },
    {
     "data": {
      "text/plain": [
       "Iter 83, error: 0.00098547083403523\t\n"
      ]
     },
     "execution_count": 148,
     "metadata": {},
     "output_type": "execute_result"
    },
    {
     "data": {
      "text/plain": [
       "Iter 84, error: 0.0041747725268788\t\n"
      ]
     },
     "execution_count": 148,
     "metadata": {},
     "output_type": "execute_result"
    },
    {
     "data": {
      "text/plain": [
       "Iter 85, error: 0.22697748768885\t\n"
      ]
     },
     "execution_count": 148,
     "metadata": {},
     "output_type": "execute_result"
    },
    {
     "data": {
      "text/plain": [
       "Iter 86, error: 0.076635162286844\t\n"
      ]
     },
     "execution_count": 148,
     "metadata": {},
     "output_type": "execute_result"
    },
    {
     "data": {
      "text/plain": [
       "Iter 87, error: 0.0026163058508346\t\n"
      ]
     },
     "execution_count": 148,
     "metadata": {},
     "output_type": "execute_result"
    },
    {
     "data": {
      "text/plain": [
       "Iter 88, error: 0.10000192106283\t\n"
      ]
     },
     "execution_count": 148,
     "metadata": {},
     "output_type": "execute_result"
    },
    {
     "data": {
      "text/plain": [
       "Iter 89, error: 0.0027998539928056\t\n"
      ]
     },
     "execution_count": 148,
     "metadata": {},
     "output_type": "execute_result"
    },
    {
     "data": {
      "text/plain": [
       "Iter 90, error: 0.003983961612453\t\n"
      ]
     },
     "execution_count": 148,
     "metadata": {},
     "output_type": "execute_result"
    },
    {
     "data": {
      "text/plain": [
       "Iter 91, error: 0.02597314151813\t\n"
      ]
     },
     "execution_count": 148,
     "metadata": {},
     "output_type": "execute_result"
    },
    {
     "data": {
      "text/plain": [
       "Iter 92, error: 0.062090615440779\t\n"
      ]
     },
     "execution_count": 148,
     "metadata": {},
     "output_type": "execute_result"
    },
    {
     "data": {
      "text/plain": [
       "Iter 93, error: 0.65877728559733\t\n"
      ]
     },
     "execution_count": 148,
     "metadata": {},
     "output_type": "execute_result"
    },
    {
     "data": {
      "text/plain": [
       "Iter 94, error: 0.034586919709696\t\n"
      ]
     },
     "execution_count": 148,
     "metadata": {},
     "output_type": "execute_result"
    },
    {
     "data": {
      "text/plain": [
       "Iter 95, error: 0.0108425693724\t\n"
      ]
     },
     "execution_count": 148,
     "metadata": {},
     "output_type": "execute_result"
    },
    {
     "data": {
      "text/plain": [
       "Iter 96, error: 0.02280539667974\t\n"
      ]
     },
     "execution_count": 148,
     "metadata": {},
     "output_type": "execute_result"
    },
    {
     "data": {
      "text/plain": [
       "Iter 97, error: 0.0016758133465712\t\n"
      ]
     },
     "execution_count": 148,
     "metadata": {},
     "output_type": "execute_result"
    },
    {
     "data": {
      "text/plain": [
       "Iter 98, error: 0.21875701926744\t\n"
      ]
     },
     "execution_count": 148,
     "metadata": {},
     "output_type": "execute_result"
    },
    {
     "data": {
      "text/plain": [
       "Iter 99, error: 0.0154847010252\t\n"
      ]
     },
     "execution_count": 148,
     "metadata": {},
     "output_type": "execute_result"
    },
    {
     "data": {
      "text/plain": [
       "Iter 100, error: 0.10127224342555\t\n"
      ]
     },
     "execution_count": 148,
     "metadata": {},
     "output_type": "execute_result"
    }
   ],
   "source": [
    "crit = nn.CrossEntropyCriterion()\n",
    "\n",
    "local manual = true -- use manual batch mode, NOT 4D-tensor-mode\n",
    "\n",
    "local batchSize = 31\n",
    "dataset = train.data\n",
    "labels = train.label\n",
    "\n",
    "local avgAvgLoss = 0\n",
    "\n",
    "for iter = 1,100 do\n",
    "\n",
    "    if manual then\n",
    "        \n",
    "        for j = 1,10 do\n",
    "            grads[j].xMin[#grads[j].xMin+1] = net:get(1).xMin[j]\n",
    "            grads[j].xMax[#grads[j].xMax+1] = net:get(1).xMax[j]\n",
    "            grads[j].yMin[#grads[j].yMin+1] = net:get(1).yMin[j]\n",
    "            grads[j].yMax[#grads[j].yMax+1] = net:get(1).yMax[j]\n",
    "        end\n",
    "        \n",
    "        windowDebugger:add(net:get(1))\n",
    "        \n",
    "        function feval(params)\n",
    "            gradParams:zero()\n",
    "\n",
    "            local avgLoss = 0\n",
    "            \n",
    "            for _ = 1,batchSize do\n",
    "                local outputs = net:forward(dataset[datasetIdx])\n",
    "                local loss = crit:forward(outputs, labels[datasetIdx])\n",
    "                avgLoss = avgLoss + loss\n",
    "                \n",
    "                local dLoss_dOutputs = crit:backward(outputs, labels[datasetIdx])\n",
    "                net:updateGradInput(dataset[datasetIdx], dLoss_dOutputs)\n",
    "                net:accGradParameters(dataset[datasetIdx], dLoss_dOutputs, 1 / batchSize)\n",
    "                \n",
    "                datasetIdx = datasetIdx % dataset:size(1) + 1\n",
    "            end\n",
    "\n",
    "            return avgLoss / batchSize, gradParams\n",
    "        end\n",
    "    \n",
    "        local _, loss = optim.adam(feval, params, optimState)\n",
    "        avgAvgLoss = avgAvgLoss + loss[1]\n",
    "        \n",
    "        local outputFreq = 1\n",
    "        if iter % outputFreq == 0 then\n",
    "            print('Iter '..iter..', error: '..avgAvgLoss / outputFreq)\n",
    "            avgAvgLoss = 0\n",
    "        end\n",
    "    else\n",
    "        net:zeroGradParameters()\n",
    "\n",
    "        local batchBorders = {datasetIdx, math.min(datasetIdx + batchSize, dataset:size(1))}\n",
    "        local batch = nn.Unsqueeze(2):forward(dataset[{batchBorders}])\n",
    "--         local batchBorders = datasetIdx\n",
    "--         local batch = dataset[datasetIdx]\n",
    "        \n",
    "        local pred = net:forward(batch)\n",
    "        local err  = crit:forward(pred, labels[{batchBorders}])\n",
    "        if iter % 30 == 0 then print('Error:' .. err) end\n",
    "\n",
    "        local dLoss_dOutput = crit:backward(pred, labels[{batchBorders}])\n",
    "        net:backward(batch, dLoss_dOutput)\n",
    "        \n",
    "        net:updateParameters(lr)\n",
    "        \n",
    "        datasetIdx = (datasetIdx + batchSize - 1) % dataset:size(1) + 1\n",
    "    end\n",
    "end"
   ]
  },
  {
   "cell_type": "code",
   "execution_count": 149,
   "metadata": {
    "collapsed": false
   },
   "outputs": [
    {
     "data": {
      "text/plain": [
       "35701\t\n"
      ]
     },
     "execution_count": 149,
     "metadata": {},
     "output_type": "execute_result"
    }
   ],
   "source": [
    "datasetIdx"
   ]
  },
  {
   "cell_type": "code",
   "execution_count": 123,
   "metadata": {
    "collapsed": false
   },
   "outputs": [],
   "source": [
    "require 'gnuplot'\n",
    "\n",
    "gnuplot.figure()\n",
    "\n",
    "local k = 7\n",
    "local param = 'yMax'\n",
    "\n",
    "local rng = torch.range(1, #grads[k][param])\n",
    "gnuplot.plot{\n",
    "    {rng, torch.Tensor(grads[k][param]), '-'},\n",
    "}\n",
    "gnuplot.ylabel(param..', window #'..k)\n",
    "gnuplot.xlabel('Iteration number')"
   ]
  },
  {
   "cell_type": "code",
   "execution_count": 26,
   "metadata": {
    "collapsed": true
   },
   "outputs": [
    {
     "ename": "bad argument #1 to '?' (expecting number or torch.FloatTensor or torch.FloatStorage at /tmp/luarocks_torch-scm-1-3192/torch7/generic/Tensor.c:1153)\nstack traceback:\n\t[C]: at 0x7fb05d7afb30\n\t[C]: in function 'Tensor'\n\t[string \"print('Integral', torch.Tensor(gradInt):mean(...\"]:1: in main chunk\n\t[C]: in function 'xpcall'\n\t...ubb/Programs/Torch/install/share/lua/5.1/itorch/main.lua:210: in function <...ubb/Programs/Torch/install/share/lua/5.1/itorch/main.lua:174>\n\t...ubb/Programs/Torch/install/share/lua/5.1/lzmq/poller.lua:75: in function 'poll'\n\t.../Programs/Torch/install/share/lua/5.1/lzmq/impl/loop.lua:307: in function 'poll'\n\t.../Programs/Torch/install/share/lua/5.1/lzmq/impl/loop.lua:325: in function 'sleep_ex'\n\t.../Programs/Torch/install/share/lua/5.1/lzmq/impl/loop.lua:370: in function 'start'\n\t...ubb/Programs/Torch/install/share/lua/5.1/itorch/main.lua:389: in main chunk\n\t[C]: in function 'require'\n\t(command line):1: in main chunk\n\t[C]: at 0x00405e40",
     "evalue": "",
     "output_type": "error",
     "traceback": [
      "bad argument #1 to '?' (expecting number or torch.FloatTensor or torch.FloatStorage at /tmp/luarocks_torch-scm-1-3192/torch7/generic/Tensor.c:1153)\nstack traceback:\n\t[C]: at 0x7fb05d7afb30\n\t[C]: in function 'Tensor'\n\t[string \"print('Integral', torch.Tensor(gradInt):mean(...\"]:1: in main chunk\n\t[C]: in function 'xpcall'\n\t...ubb/Programs/Torch/install/share/lua/5.1/itorch/main.lua:210: in function <...ubb/Programs/Torch/install/share/lua/5.1/itorch/main.lua:174>\n\t...ubb/Programs/Torch/install/share/lua/5.1/lzmq/poller.lua:75: in function 'poll'\n\t.../Programs/Torch/install/share/lua/5.1/lzmq/impl/loop.lua:307: in function 'poll'\n\t.../Programs/Torch/install/share/lua/5.1/lzmq/impl/loop.lua:325: in function 'sleep_ex'\n\t.../Programs/Torch/install/share/lua/5.1/lzmq/impl/loop.lua:370: in function 'start'\n\t...ubb/Programs/Torch/install/share/lua/5.1/itorch/main.lua:389: in main chunk\n\t[C]: in function 'require'\n\t(command line):1: in main chunk\n\t[C]: at 0x00405e40"
     ]
    }
   ],
   "source": [
    "print('Integral', torch.Tensor(gradInt):mean())\n",
    "print('Conv', torch.Tensor(gradConv):mean())\n",
    "print('Linear', torch.Tensor(gradLinear):mean())"
   ]
  },
  {
   "cell_type": "code",
   "execution_count": 150,
   "metadata": {
    "collapsed": false
   },
   "outputs": [
    {
     "data": {
      "text/plain": [
       "\n"
      ]
     },
     "execution_count": 150,
     "metadata": {},
     "output_type": "execute_result"
    }
   ],
   "source": [
    "windowDebugger:exportVideo('15-mnist.avi')"
   ]
  },
  {
   "cell_type": "code",
   "execution_count": 151,
   "metadata": {
    "collapsed": false
   },
   "outputs": [
    {
     "data": {
      "text/plain": [
       "500\t\n"
      ]
     },
     "execution_count": 151,
     "metadata": {},
     "output_type": "execute_result"
    },
    {
     "data": {
      "text/plain": [
       "1000\t\n"
      ]
     },
     "execution_count": 151,
     "metadata": {},
     "output_type": "execute_result"
    },
    {
     "data": {
      "text/plain": [
       "1500\t\n"
      ]
     },
     "execution_count": 151,
     "metadata": {},
     "output_type": "execute_result"
    },
    {
     "data": {
      "text/plain": [
       "2000\t\n"
      ]
     },
     "execution_count": 151,
     "metadata": {},
     "output_type": "execute_result"
    },
    {
     "data": {
      "text/plain": [
       "2500\t\n"
      ]
     },
     "execution_count": 151,
     "metadata": {},
     "output_type": "execute_result"
    },
    {
     "data": {
      "text/plain": [
       "3000\t\n"
      ]
     },
     "execution_count": 151,
     "metadata": {},
     "output_type": "execute_result"
    },
    {
     "data": {
      "text/plain": [
       "3500\t\n"
      ]
     },
     "execution_count": 151,
     "metadata": {},
     "output_type": "execute_result"
    },
    {
     "data": {
      "text/plain": [
       "4000\t\n"
      ]
     },
     "execution_count": 151,
     "metadata": {},
     "output_type": "execute_result"
    },
    {
     "data": {
      "text/plain": [
       "4500\t\n"
      ]
     },
     "execution_count": 151,
     "metadata": {},
     "output_type": "execute_result"
    },
    {
     "data": {
      "text/plain": [
       "5000\t\n"
      ]
     },
     "execution_count": 151,
     "metadata": {},
     "output_type": "execute_result"
    },
    {
     "data": {
      "text/plain": [
       "5500\t\n"
      ]
     },
     "execution_count": 151,
     "metadata": {},
     "output_type": "execute_result"
    },
    {
     "data": {
      "text/plain": [
       "6000\t\n"
      ]
     },
     "execution_count": 151,
     "metadata": {},
     "output_type": "execute_result"
    },
    {
     "data": {
      "text/plain": [
       "6500\t\n"
      ]
     },
     "execution_count": 151,
     "metadata": {},
     "output_type": "execute_result"
    },
    {
     "data": {
      "text/plain": [
       "7000\t\n"
      ]
     },
     "execution_count": 151,
     "metadata": {},
     "output_type": "execute_result"
    },
    {
     "data": {
      "text/plain": [
       "7500\t\n"
      ]
     },
     "execution_count": 151,
     "metadata": {},
     "output_type": "execute_result"
    },
    {
     "data": {
      "text/plain": [
       "8000\t\n"
      ]
     },
     "execution_count": 151,
     "metadata": {},
     "output_type": "execute_result"
    },
    {
     "data": {
      "text/plain": [
       "8500\t\n"
      ]
     },
     "execution_count": 151,
     "metadata": {},
     "output_type": "execute_result"
    },
    {
     "data": {
      "text/plain": [
       "9000\t\n"
      ]
     },
     "execution_count": 151,
     "metadata": {},
     "output_type": "execute_result"
    },
    {
     "data": {
      "text/plain": [
       "9500\t\n"
      ]
     },
     "execution_count": 151,
     "metadata": {},
     "output_type": "execute_result"
    },
    {
     "data": {
      "text/plain": [
       "10000\t\n",
       "\n",
       "0: 99.387755102041%\t\n",
       "1: 98.854625550661%\t\n"
      ]
     },
     "execution_count": 151,
     "metadata": {},
     "output_type": "execute_result"
    },
    {
     "data": {
      "text/plain": [
       "2: 97.480620155039%\t\n",
       "3: 98.613861386139%\t\n",
       "4: 98.67617107943%\t\n",
       "5: 97.757847533632%\t\n",
       "6: 97.912317327766%\t\n",
       "7: 97.470817120623%\t\n",
       "8: 97.741273100616%\t\n",
       "9: 96.828543111992%\t\n",
       "Overall accuracy: 98.08%\t\n"
      ]
     },
     "execution_count": 151,
     "metadata": {},
     "output_type": "execute_result"
    }
   ],
   "source": [
    "correct = {}\n",
    "total = {}\n",
    "\n",
    "for i = 1,10 do\n",
    "    correct[i] = 0\n",
    "    total[i] = 0\n",
    "end\n",
    "\n",
    "local testSize = 10000\n",
    "\n",
    "-- local predictions = select(2, net:forward(test.data:reshape(10^4, 1, 28, 28)):max(2)):squeeze()\n",
    "\n",
    "-- for i = 1,testSize do\n",
    "--     total[test.label[i]] = total[test.label[i]] + 1\n",
    "--     if predictions[i] == test.label[i] then\n",
    "--         correct[test.label[i]] = correct[test.label[i]] + 1\n",
    "--     end\n",
    "-- end\n",
    "\n",
    "-- if unable to work in 4D-tensor-batch-mode:\n",
    "for i = 1,testSize do\n",
    "    total[test.label[i]] = total[test.label[i]] + 1\n",
    "    local class = select(2, net:forward(test.data[i]):max(1))[1]\n",
    "    if class == test.label[i] then\n",
    "        correct[test.label[i]] = correct[test.label[i]] + 1\n",
    "    end\n",
    "    \n",
    "    if i % 500 == 0 then\n",
    "        print(i)\n",
    "    end\n",
    "end\n",
    "print()\n",
    "\n",
    "total_correct = 0\n",
    "\n",
    "for i = 1,10 do\n",
    "    print((i-1)..': '..(100 * correct[i] / total[i])..'%')\n",
    "    total_correct = total_correct + correct[i]\n",
    "end\n",
    "\n",
    "print('Overall accuracy: '..(100 * total_correct / testSize)..'%')"
   ]
  },
  {
   "cell_type": "code",
   "execution_count": 136,
   "metadata": {
    "collapsed": false
   },
   "outputs": [
    {
     "data": {
      "text/plain": [
       "\n"
      ]
     },
     "execution_count": 136,
     "metadata": {},
     "output_type": "execute_result"
    }
   ],
   "source": [
    "torch.save('integral-mnist-98.21.t7', net)"
   ]
  },
  {
   "cell_type": "code",
   "execution_count": 106,
   "metadata": {
    "collapsed": false
   },
   "outputs": [
    {
     "data": {
      "image/png": "[encoded data removed]",
      "text/plain": [
       "Console does not support images"
      ]
     },
     "metadata": {
      "image/png": {
       "height": 660,
       "width": 180
      }
     },
     "output_type": "display_data"
    }
   ],
   "source": [
    "w = net:get(5).weight:reshape(10,128,28,28)\n",
    "itorch.image(w[9])"
   ]
  },
  {
   "cell_type": "markdown",
   "metadata": {},
   "source": [
    "### Debug the gradient"
   ]
  },
  {
   "cell_type": "markdown",
   "metadata": {},
   "source": [
    "Compute the derivative numerically and compare"
   ]
  },
  {
   "cell_type": "code",
   "execution_count": 43,
   "metadata": {
    "collapsed": true
   },
   "outputs": [],
   "source": [
    "lena = image.lena():mean(1):squeeze()\n",
    "\n",
    "local nWindows = 1\n",
    "-- local nHaar = 5\n",
    "\n",
    "net = Integral(nWindows, 512, 512)\n",
    "-- net:add(nn.SpatialConvolutionMM(nWindows, nHaar, 1, 1, 1, 1))\n",
    "-- net:add(nn.Tanh())\n",
    "-- net:add(nn.Reshape(nHaar*512*512))\n",
    "-- net:add(nn.Linear(nWindows*512*512, 10))\n",
    "\n",
    "crit = nn.MSECriterion()\n",
    "\n",
    "local int = net\n",
    "int.xMin[1], int.yMin[1] = -10, 30\n",
    "int.xMax[1], int.yMax[1] =  30, 300\n",
    "-- int.xMin[2], int.yMin[2] = - 5, - 5\n",
    "-- int.xMax[2], int.yMax[2] =  40,  40\n",
    "int:recalculateArea()\n",
    "\n",
    "param = {}\n",
    "loss = {}\n",
    "dL_dParam_nn = {}\n",
    "dL_dParam_diff = {}\n",
    "\n",
    "for i = 1,600 do\n",
    "    param[i] = int.yMin[1] + i -- ***************************\n",
    "    loss[i] = -666\n",
    "    dL_dParam_nn[i] = -666\n",
    "    dL_dParam_diff[i] = -666\n",
    "end\n",
    "\n",
    "cv.destroyAllWindows{}\n",
    "cv.namedWindow{'w'}\n",
    "\n",
    "for i = 1,#param do\n",
    "    net:zeroGradParameters()\n",
    "    int.yMax[1] = param[i] -- ***************************\n",
    "    int:recalculateArea()\n",
    "    \n",
    "    pred = net:forward(lena)\n",
    "    currLoss = crit:forward(pred, lena)\n",
    "    dLoss_dOutput = crit:backward(pred, lena)\n",
    "    net:backward(lena, dLoss_dOutput)\n",
    "    \n",
    "--     if param[i] > -10 and param[i] < 10 then\n",
    "--         print(param[i])\n",
    "--         cv.imshow{'w', pred:squeeze()}\n",
    "--         cv.waitKey{0}\n",
    "--     end\n",
    "    \n",
    "    loss[i] = currLoss\n",
    "    dL_dParam_nn[i] = int.gradYMax[1] -- ***************************\n",
    "    collectgarbage()\n",
    "end\n",
    "\n",
    "cv.destroyWindow{'w'}\n",
    "\n",
    "for i = 1,#param-1 do\n",
    "    dL_dParam_diff[i] = loss[i+1] - loss[i]\n",
    "end\n",
    "\n",
    "param[#param] = nil\n",
    "dL_dParam_nn[#dL_dParam_nn] = nil\n",
    "dL_dParam_diff[#dL_dParam_diff] = nil\n",
    "loss[#loss] = nil"
   ]
  },
  {
   "cell_type": "code",
   "execution_count": 241,
   "metadata": {
    "collapsed": false
   },
   "outputs": [],
   "source": [
    "require 'gnuplot'\n",
    "\n",
    "gnuplot.pngfigure('loss_yMin_rtz.png') -- ***************************\n",
    "gnuplot.plot{\n",
    "    {torch.Tensor(param), torch.Tensor(loss), '-'},\n",
    "}\n",
    "gnuplot.xlabel('parameter')\n",
    "gnuplot.ylabel('Loss')\n",
    "gnuplot.plotflush()"
   ]
  },
  {
   "cell_type": "code",
   "execution_count": 45,
   "metadata": {
    "collapsed": false
   },
   "outputs": [],
   "source": [
    "require 'gnuplot'\n",
    "\n",
    "-- gnuplot.pngfigure('dLoss_dYMin_blur.png') -- ***************************\n",
    "gnuplot.figure()\n",
    "gnuplot.plot{\n",
    "    {'manual', torch.Tensor(param), torch.Tensor(dL_dParam_nn), '-'},\n",
    "    {'diff'  , torch.Tensor(param), torch.Tensor(dL_dParam_diff), '-'},\n",
    "    {'zero'  , torch.Tensor{0, 0}, torch.Tensor{torch.Tensor(dL_dParam_diff):min(), torch.Tensor(dL_dParam_diff):max()}, '-'},\n",
    "}\n",
    "gnuplot.movelegend('right', 'middle')\n",
    "gnuplot.xlabel('parameter')\n",
    "gnuplot.ylabel('dLoss / dParameter')\n",
    "-- gnuplot.plotflush()"
   ]
  },
  {
   "cell_type": "markdown",
   "metadata": {},
   "source": [
    "Another method"
   ]
  },
  {
   "cell_type": "code",
   "execution_count": 869,
   "metadata": {
    "collapsed": true
   },
   "outputs": [],
   "source": [
    "source = image.lena():mean(1):squeeze()\n",
    "source = image.convolve(source, image.gaussian(330), 'same')\n",
    "source:add(-source:mean())\n",
    "source:div(source:std())\n",
    "\n",
    "local int = nn.Integral(2, 512, 512)\n",
    "int.xMin[1], int.yMin[1] = -140, -140\n",
    "int.xMax[1], int.yMax[1] =  -20, - 20\n",
    "int.xMin[2], int.yMin[2] = - 50, - 50\n",
    "int.xMax[2], int.yMax[2] =  140,  140\n",
    "int:recalculateArea()\n",
    "filtered = int:forward(source)\n",
    "\n",
    "target = filtered[1] - filtered[2]"
   ]
  },
  {
   "cell_type": "code",
   "execution_count": 870,
   "metadata": {
    "collapsed": false
   },
   "outputs": [],
   "source": [
    "simNet = nn.Sequential()\n",
    "simNet:add(nn.Integral(2, 512, 512))\n",
    "simNet:add(nn.SpatialConvolutionMM(2,1,1,1,1,1))\n",
    "\n",
    "params, gradParams = simNet:getParameters()\n",
    "\n",
    "crit = nn.MSECriterion()\n",
    "\n",
    "-- local int = simNet:get(1)\n",
    "-- int.xMin[1], int.yMin[1] = -10, -10\n",
    "-- int.xMax[1], int.yMax[1] =   5,   5\n",
    "-- int.xMin[2], int.yMin[2] = - 5, - 5\n",
    "-- int.xMax[2], int.yMax[2] =  10,  10\n",
    "-- int:recalculateArea()\n",
    "\n",
    "-- simNet:get(2).weight[{1,1}] =  1\n",
    "-- simNet:get(2).weight[{1,2}] = -1\n",
    "-- simNet:get(2).bias[1] = 0"
   ]
  },
  {
   "cell_type": "code",
   "execution_count": 871,
   "metadata": {
    "collapsed": false
   },
   "outputs": [],
   "source": [
    "simDebugger = WindowDebugger()\n",
    "xMin = {{}, {}}\n",
    "xMax = {{}, {}}\n",
    "convWeight = {{}, {}}\n",
    "lossHist = {}\n",
    "\n",
    "gradParams:zero()"
   ]
  },
  {
   "cell_type": "code",
   "execution_count": 885,
   "metadata": {
    "collapsed": true
   },
   "outputs": [],
   "source": [
    "optimState = {\n",
    "    learningRate = 500e-3,\n",
    "--     momentum = 0.9,\n",
    "--     nesterov = true,\n",
    "--     dampening = 0\n",
    "}\n",
    "\n",
    "function feval(params)\n",
    "    gradParams:zero()\n",
    "\n",
    "    local outputs = simNet:forward(source)\n",
    "    local loss = crit:forward(outputs, target)\n",
    "    local dLoss_dOutputs = crit:backward(outputs, target)\n",
    "    simNet:backward(source, dLoss_dOutputs)\n",
    "\n",
    "    return loss, gradParams\n",
    "end"
   ]
  },
  {
   "cell_type": "code",
   "execution_count": 926,
   "metadata": {
    "collapsed": false
   },
   "outputs": [],
   "source": [
    "optimState.learningRate = 0.15"
   ]
  },
  {
   "cell_type": "code",
   "execution_count": 936,
   "metadata": {
    "collapsed": true
   },
   "outputs": [
    {
     "data": {
      "text/plain": [
       "1.1284322781746e-10\t\n"
      ]
     },
     "execution_count": 936,
     "metadata": {},
     "output_type": "execute_result"
    },
    {
     "data": {
      "text/plain": [
       "2.3057028508688e-11\t\n"
      ]
     },
     "execution_count": 936,
     "metadata": {},
     "output_type": "execute_result"
    },
    {
     "data": {
      "text/plain": [
       "2.2619688240522e-12\t\n"
      ]
     },
     "execution_count": 936,
     "metadata": {},
     "output_type": "execute_result"
    },
    {
     "data": {
      "text/plain": [
       "3.1778585839193e-12\t\n"
      ]
     },
     "execution_count": 936,
     "metadata": {},
     "output_type": "execute_result"
    },
    {
     "data": {
      "text/plain": [
       "1.5265132907727e-12\t\n"
      ]
     },
     "execution_count": 936,
     "metadata": {},
     "output_type": "execute_result"
    },
    {
     "data": {
      "text/plain": [
       "7.2406116475784e-13\t\n"
      ]
     },
     "execution_count": 936,
     "metadata": {},
     "output_type": "execute_result"
    },
    {
     "data": {
      "text/plain": [
       "1.4735726473671e-13\t\n"
      ]
     },
     "execution_count": 936,
     "metadata": {},
     "output_type": "execute_result"
    },
    {
     "data": {
      "text/plain": [
       "2.4396232782423e-14\t\n"
      ]
     },
     "execution_count": 936,
     "metadata": {},
     "output_type": "execute_result"
    },
    {
     "data": {
      "text/plain": [
       "3.7055760207256e-15\t\n"
      ]
     },
     "execution_count": 936,
     "metadata": {},
     "output_type": "execute_result"
    },
    {
     "data": {
      "text/plain": [
       "7.0992177590647e-15\t\n"
      ]
     },
     "execution_count": 936,
     "metadata": {},
     "output_type": "execute_result"
    }
   ],
   "source": [
    "require 'optim'\n",
    "\n",
    "local diff = false\n",
    "\n",
    "function tocvimg(img)\n",
    "    local retval = img:clone():squeeze()\n",
    "    retval:div(retval:max())\n",
    "    retval:add(-retval:min())\n",
    "    return retval\n",
    "end\n",
    "\n",
    "for i = 1,100 do\n",
    "    -- parameter history\n",
    "    simDebugger:add(simNet:get(1))\n",
    "    for j = 1,2 do\n",
    "        xMin[j][#xMin[j]+1] = simNet:get(1).xMin[j]\n",
    "        xMax[j][#xMax[j]+1] = simNet:get(1).xMax[j]\n",
    "        convWeight[j][#convWeight[j]+1] = simNet:get(2).weight[{1,j}]\n",
    "    end\n",
    "    \n",
    "    local _, loss = optim.adam(feval, params, optimState)\n",
    "    lossHist[#lossHist+1] = loss\n",
    "    \n",
    "    if i % 10 == 0 then print(loss[1]) end\n",
    "    if i % 10 == 0 then collectgarbage() end\n",
    "end"
   ]
  },
  {
   "cell_type": "code",
   "execution_count": 964,
   "metadata": {
    "collapsed": false
   },
   "outputs": [
    {
     "data": {
      "text/plain": [
       "-0.1494  0.4364\n",
       "[torch.FloatTensor of size 1x2]\n",
       "\n",
       "1e-08 *\n",
       "-6.7629\n",
       "[torch.FloatTensor of size 1]\n",
       "\n"
      ]
     },
     "execution_count": 964,
     "metadata": {},
     "output_type": "execute_result"
    }
   ],
   "source": [
    "simNet:get(2).weight, simNet:get(2).bias"
   ]
  },
  {
   "cell_type": "code",
   "execution_count": 943,
   "metadata": {
    "collapsed": false
   },
   "outputs": [
    {
     "data": {
      "text/plain": [
       "5.9604644775391e-07\t\n"
      ]
     },
     "execution_count": 943,
     "metadata": {},
     "output_type": "execute_result"
    },
    {
     "data": {
      "image/png": "[encoded data removed]",
      "text/plain": [
       "Console does not support images"
      ]
     },
     "metadata": {
      "image/png": {
       "height": 514,
       "width": 514
      }
     },
     "output_type": "display_data"
    }
   ],
   "source": [
    "print(torch.abs(target-simNet:forward(source)):max())\n",
    "itorch.image{torch.abs(target-simNet:forward(source))}\n",
    "-- itorch.image{target, simNet:forward(source)}"
   ]
  },
  {
   "cell_type": "code",
   "execution_count": 806,
   "metadata": {
    "collapsed": true
   },
   "outputs": [
    {
     "data": {
      "image/png": "[encoded data removed]",
      "text/plain": [
       "Console does not support images"
      ]
     },
     "metadata": {
      "image/png": {
       "height": 512,
       "width": 512
      }
     },
     "output_type": "display_data"
    },
    {
     "data": {
      "text/plain": [
       "\n"
      ]
     },
     "execution_count": 806,
     "metadata": {},
     "output_type": "execute_result"
    }
   ],
   "source": [
    "itorch.image(source)"
   ]
  },
  {
   "cell_type": "code",
   "execution_count": 938,
   "metadata": {
    "collapsed": true
   },
   "outputs": [],
   "source": [
    "gnuplot.pngfigure('loss_14-blur.png')\n",
    "gnuplot.plot{\n",
    "    {torch.Tensor(lossHist), '-'}\n",
    "}\n",
    "gnuplot.axis{0, #lossHist, -0, 9}\n",
    "gnuplot.title('Recovering 1 Haar feature on 1 image using MSE (-0.1494 0.4364)')\n",
    "gnuplot.xlabel('Iteration number')\n",
    "gnuplot.ylabel('MSE')\n",
    "gnuplot.plotflush()"
   ]
  },
  {
   "cell_type": "code",
   "execution_count": 939,
   "metadata": {
    "collapsed": false
   },
   "outputs": [],
   "source": [
    "gnuplot.figure()\n",
    "gnuplot.plot{{torch.Tensor(xMin[1]), '-'}, {torch.Tensor(xMax[1]), '-'}}"
   ]
  },
  {
   "cell_type": "code",
   "execution_count": 940,
   "metadata": {
    "collapsed": false
   },
   "outputs": [
    {
     "data": {
      "text/plain": [
       "\n"
      ]
     },
     "execution_count": 940,
     "metadata": {},
     "output_type": "execute_result"
    }
   ],
   "source": [
    "simDebugger:exportVideo('similarity.avi', {{-140, -140, -20, -20}, {-50, -50, 140, 140}})"
   ]
  },
  {
   "cell_type": "markdown",
   "metadata": {},
   "source": [
    "### Measure `Integral`'s efficiency"
   ]
  },
  {
   "cell_type": "code",
   "execution_count": 32,
   "metadata": {
    "collapsed": false
   },
   "outputs": [
    {
     "data": {
      "text/plain": [
       "Time elapsed for 512 box filters: 1.261351108551 seconds\t\n"
      ]
     },
     "execution_count": 32,
     "metadata": {},
     "output_type": "execute_result"
    }
   ],
   "source": [
    "local nPlanes = 512\n",
    "local convSize = 13\n",
    "\n",
    "collectgarbage()\n",
    "\n",
    "timer = torch.Timer()\n",
    "res = nn.Integral(nPlanes, 512, 512):forward(image.lena():mean(1):squeeze())\n",
    "boxTime = timer:time().real\n",
    "print('Time elapsed for '..nPlanes..' box filters: ' ..boxTime.. ' seconds')\n",
    "\n",
    "collectgarbage()\n",
    "\n",
    "convTimes = {}\n",
    "torch.setnumthreads(1)\n",
    "\n",
    "for convSize = 1,35,2 do\n",
    "    timer = torch.Timer()\n",
    "    res = nn.SpatialConvolutionMM(1, nPlanes, convSize, convSize):forward(image.lena():mean(1))\n",
    "    convTimes[#convTimes+1] = timer:time().real\n",
    "    -- print('Time elapsed for '..nPlanes..' '..convSize..'x'..convSize..' convolutions: ' ..convTimes[i].. ' seconds')\n",
    "end"
   ]
  },
  {
   "cell_type": "code",
   "execution_count": 48,
   "metadata": {
    "collapsed": false
   },
   "outputs": [],
   "source": [
    "require 'gnuplot'\n",
    "\n",
    "gnuplot.pngfigure('times.png')\n",
    "gnuplot.plot{\n",
    "    {'Box filter', torch.Tensor{1,35}, torch.Tensor{boxTime, boxTime}},\n",
    "    {'General convolution', torch.range(1,35,2), torch.Tensor(convTimes)}\n",
    "}\n",
    "gnuplot.movelegend('left', 'top')\n",
    "gnuplot.title('Convolving a 512x512 image 512 times')\n",
    "gnuplot.xlabel('Kernel size')\n",
    "gnuplot.ylabel('Time, seconds')\n",
    "gnuplot.plotflush()"
   ]
  },
  {
   "cell_type": "code",
   "execution_count": 49,
   "metadata": {
    "collapsed": false,
    "scrolled": false
   },
   "outputs": [
    {
     "data": {
      "image/png": "[encoded data removed]",
      "text/plain": [
       "Console does not support images"
      ]
     },
     "metadata": {
      "image/png": {
       "height": 480,
       "width": 640
      }
     },
     "output_type": "display_data"
    },
    {
     "data": {
      "text/plain": [
       "\n"
      ]
     },
     "execution_count": 49,
     "metadata": {},
     "output_type": "execute_result"
    }
   ],
   "source": [
    "itorch.image('times.png')"
   ]
  }
 ],
 "metadata": {
  "kernelspec": {
   "display_name": "iTorch",
   "language": "lua",
   "name": "itorch"
  },
  "language_info": {
   "name": "lua",
   "version": "5.1"
  }
 },
 "nbformat": 4,
 "nbformat_minor": 1
}
