{
 "cells": [
  {
   "cell_type": "markdown",
   "metadata": {},
   "source": [
    "### Load Integral"
   ]
  },
  {
   "cell_type": "code",
   "execution_count": 194,
   "metadata": {
    "collapsed": false
   },
   "outputs": [],
   "source": [
    "Integral = nil\n",
    "package.loaded['Integral-jit'] = nil\n",
    "\n",
    "torch.setdefaulttensortype('torch.FloatTensor')\n",
    "\n",
    "require 'Integral-jit'"
   ]
  },
  {
   "cell_type": "markdown",
   "metadata": {},
   "source": [
    "### Visual correctness check"
   ]
  },
  {
   "cell_type": "code",
   "execution_count": 195,
   "metadata": {
    "collapsed": false
   },
   "outputs": [],
   "source": [
    "cv = require 'cv'\n",
    "require 'cv.highgui'\n",
    "require 'image'\n",
    "\n",
    "res = Integral(12, 512, 512):forward(image.lena():mean(1):squeeze())\n",
    "\n",
    "cv.namedWindow{'w'}\n",
    "cv.imshow{'w', image.lena():mean(1):squeeze()}\n",
    "cv.waitKey{0}\n",
    "cv.imshow{'w', image.lena():mean(1):squeeze()}\n",
    "cv.waitKey{0}\n",
    "cv.imshow{'w', image.lena():mean(1):squeeze()}\n",
    "cv.waitKey{0}\n",
    "\n",
    "for i = 1,res:size(1) do\n",
    "    cv.imshow{'w', cv.applyColorMap{\n",
    "            (res[i] / res[i]:max() * 255):byte(), nil, cv.COLORMAP_HOT}}\n",
    "    cv.waitKey{0}\n",
    "end\n",
    "\n",
    "cv.destroyAllWindows{}\n",
    "\n",
    "res = nil\n",
    "collectgarbage()"
   ]
  },
  {
   "cell_type": "markdown",
   "metadata": {},
   "source": [
    "### Measure execution times\n",
    "\n",
    "Input: 1024x768 image\n",
    "\n",
    "* **Forward** experiment: compute `16x1024x768` feature maps 4 times, repeat 6 times\n",
    "* **Backward** experiment: do a backprop step (from the previous state) 4 times, repeat 6 times"
   ]
  },
  {
   "cell_type": "markdown",
   "metadata": {},
   "source": [
    "#### Forward\n",
    "\n",
    "LuaJIT: $0.487 \\pm 0.087$ seconds"
   ]
  },
  {
   "cell_type": "markdown",
   "metadata": {},
   "source": [
    "#### Backward\n",
    "\n",
    "LuaJIT: $2.660 \\pm 0.252$ seconds"
   ]
  },
  {
   "cell_type": "code",
   "execution_count": 196,
   "metadata": {
    "collapsed": true
   },
   "outputs": [],
   "source": [
    "h = 768\n",
    "w = 1024\n",
    "nMaps = 16"
   ]
  },
  {
   "cell_type": "code",
   "execution_count": 197,
   "metadata": {
    "collapsed": false
   },
   "outputs": [],
   "source": [
    "int = Integral(16, 768, 1024)\n",
    "params, gradParams = int:getParameters()"
   ]
  },
  {
   "cell_type": "markdown",
   "metadata": {},
   "source": [
    "#### Forward experiment"
   ]
  },
  {
   "cell_type": "code",
   "execution_count": 207,
   "metadata": {
    "collapsed": false,
    "scrolled": true
   },
   "outputs": [
    {
     "data": {
      "text/plain": [
       "0.48705518245697 +/- 0.086716275472322 seconds\t\n"
      ]
     },
     "execution_count": 207,
     "metadata": {},
     "output_type": "execute_result"
    }
   ],
   "source": [
    "img = torch.rand(h, w)\n",
    "local repeats = 4\n",
    "local timeRepeats = 6\n",
    "\n",
    "local times = torch.Tensor(timeRepeats)\n",
    "\n",
    "for timeRepeat = 1,timeRepeats do\n",
    "\n",
    "    local timer = torch.Timer()\n",
    "\n",
    "    for _ = 1,repeats do\n",
    "        int:forward(img)\n",
    "    end\n",
    "\n",
    "    timer:stop()\n",
    "\n",
    "    times[timeRepeat] = timer:time().real\n",
    "    \n",
    "    collectgarbage()\n",
    "    \n",
    "end\n",
    "\n",
    "print(times:mean() .. ' +/- ' .. 2.1 * times:std() .. ' seconds')"
   ]
  },
  {
   "cell_type": "markdown",
   "metadata": {},
   "source": [
    "#### Backward experiment"
   ]
  },
  {
   "cell_type": "code",
   "execution_count": 208,
   "metadata": {
    "collapsed": false
   },
   "outputs": [
    {
     "data": {
      "text/plain": [
       "2.6598696708679 +/- 0.25184703056895 seconds\t\n"
      ]
     },
     "execution_count": 208,
     "metadata": {},
     "output_type": "execute_result"
    }
   ],
   "source": [
    "img = torch.rand(h, w)\n",
    "local repeats = 4\n",
    "local timeRepeats = 6\n",
    "\n",
    "local times = torch.Tensor(timeRepeats)\n",
    "\n",
    "int:forward(img)\n",
    "int:backward(img, int.output)\n",
    "\n",
    "for timeRepeat = 1,timeRepeats do\n",
    "\n",
    "    local timer = torch.Timer()\n",
    "\n",
    "    for _ = 1,repeats do\n",
    "        int:backward(img, int.output)\n",
    "    end\n",
    "\n",
    "    timer:stop()\n",
    "\n",
    "    times[timeRepeat] = timer:time().real\n",
    "    \n",
    "    collectgarbage()\n",
    "    \n",
    "end\n",
    "\n",
    "print(times:mean() .. ' +/- ' .. 2.1 * times:std() .. ' seconds')"
   ]
  },
  {
   "cell_type": "code",
   "execution_count": null,
   "metadata": {
    "collapsed": true
   },
   "outputs": [],
   "source": []
  }
 ],
 "metadata": {
  "kernelspec": {
   "display_name": "iTorch",
   "language": "lua",
   "name": "itorch"
  },
  "language_info": {
   "name": "lua",
   "version": "5.1"
  }
 },
 "nbformat": 4,
 "nbformat_minor": 1
}
