{
 "cells": [
  {
   "cell_type": "markdown",
   "metadata": {},
   "source": [
    "### Load `Integral` and test it right away"
   ]
  },
  {
   "cell_type": "code",
   "execution_count": 3,
   "metadata": {
    "collapsed": false
   },
   "outputs": [
    {
     "data": {
      "text/plain": [
       "Output mean relative error:\t1.5581343049562e-06 %\t\n"
      ]
     },
     "execution_count": 3,
     "metadata": {},
     "output_type": "execute_result"
    },
    {
     "data": {
      "text/plain": [
       "gradInput mean relative error:\t1.3775900353091e-06 %\t\n",
       "gradParams mean relative error:\t0.038982911794383 %\t\n"
      ]
     },
     "execution_count": 3,
     "metadata": {},
     "output_type": "execute_result"
    }
   ],
   "source": [
    "torch.setdefaulttensortype('torch.FloatTensor')\n",
    "\n",
    "require 'image'\n",
    "local lena = image.lena():mean(1):squeeze()\n",
    "\n",
    "require 'Integral-jit'\n",
    "\n",
    "-- compute true forward and backward results for some data\n",
    "local intGold = Integral(16, 512, 512)\n",
    "local params, gradParamsGold = intGold:getParameters()\n",
    "\n",
    "local forwardGold = intGold:forward(lena)\n",
    "local gradInputGold = intGold:backward(lena, forwardGold)\n",
    "\n",
    "-- remove the old slow class\n",
    "Integral = nil\n",
    "debug.getregistry()['Integral'] = nil \n",
    "package.loaded['Integral-c'] = nil\n",
    "package.loaded['Integral-jit'] = nil\n",
    "\n",
    "-- require the new fast class\n",
    "require 'Integral-c'\n",
    "\n",
    "local intTest = Integral(16, 512, 512)\n",
    "local paramsTest, gradParamsTest = intTest:getParameters()\n",
    "\n",
    "paramsTest:copy(params)\n",
    "intTest:recalculateArea()\n",
    "\n",
    "-- compare results\n",
    "local forwardTest = intTest:forward(lena)\n",
    "local forwardErr = (forwardGold - forwardTest):abs():sum() / \n",
    "                   forwardTest:nElement() / torch.abs(forwardGold):mean()\n",
    "print('Output mean relative error:', forwardErr * 100 .. ' %')\n",
    "\n",
    "local gradInputTest = intTest:backward(lena, forwardGold)\n",
    "local gradInputErr = (gradInputGold - gradInputTest):abs():sum() / \n",
    "                     gradInputTest:nElement() / torch.abs(gradInputGold):mean()\n",
    "print('gradInput mean relative error:', gradInputErr * 100 .. ' %')\n",
    "local gradParamsErr = (gradParamsGold - gradParamsTest):abs():sum() / \n",
    "                      gradParamsTest:nElement() / torch.abs(gradParamsGold):mean()\n",
    "print('gradParams mean relative error:', gradParamsErr * 100 .. ' %')\n",
    "\n",
    "assert(forwardErr    < 1e-6)\n",
    "assert(gradInputErr  < 1e-6)\n",
    "assert(gradParamsErr < 7e-4)"
   ]
  },
  {
   "cell_type": "markdown",
   "metadata": {},
   "source": [
    "### Test multi-channel vs single-channel `Integral`"
   ]
  },
  {
   "cell_type": "markdown",
   "metadata": {},
   "source": [
    "Test forward pass"
   ]
  },
  {
   "cell_type": "code",
   "execution_count": 78,
   "metadata": {
    "collapsed": false
   },
   "outputs": [
    {
     "data": {
      "text/plain": [
       "Output mean relative error:\t0 %\t\n"
      ]
     },
     "execution_count": 78,
     "metadata": {},
     "output_type": "execute_result"
    }
   ],
   "source": [
    "torch.setdefaulttensortype('torch.FloatTensor')\n",
    "\n",
    "local nInputCh = 5\n",
    "local nWindows = 7\n",
    "\n",
    "require 'image'\n",
    "torch.manualSeed(3)\n",
    "local input = torch.rand(nInputCh, 234, 234)\n",
    "\n",
    "Integral = nil\n",
    "debug.getregistry()['Integral'] = nil \n",
    "package.loaded['Integral-c'] = nil\n",
    "package.loaded['Integral-jit'] = nil\n",
    "package.loaded['Integral-jit-multi'] = nil\n",
    "require 'Integral-jit'\n",
    "\n",
    "-- compute true forward result for some data\n",
    "local intGold = Integral(nWindows, 234, 234)\n",
    "local params, gradParamsGold = intGold:getParameters()\n",
    "\n",
    "local forwardGold = torch.Tensor(nInputCh*nWindows, 234, 234)\n",
    "for i = 1,nInputCh do\n",
    "    forwardGold[{{(i-1)*nWindows+1, i*nWindows}}]:copy(intGold:forward(input[i]))\n",
    "end\n",
    "\n",
    "-- remove the single-channel class\n",
    "Integral = nil\n",
    "debug.getregistry()['Integral'] = nil \n",
    "package.loaded['Integral-c'] = nil\n",
    "package.loaded['Integral-jit'] = nil\n",
    "package.loaded['Integral-jit-multi'] = nil\n",
    "\n",
    "-- require the new multi-channel class\n",
    "require 'Integral-jit-multi'\n",
    "\n",
    "local intTest = Integral(nWindows, 234, 234)\n",
    "for i,member in ipairs{'xMin','xMax','yMin','yMax'} do\n",
    "    intTest[member] = intGold[member]\n",
    "end\n",
    "intTest:recalculateArea()\n",
    "\n",
    "local forwardTest = intTest:forward(input)\n",
    "\n",
    "local forwardErr = (forwardGold - forwardTest):abs():sum() / \n",
    "                   forwardTest:nElement() / torch.abs(forwardGold):mean()\n",
    "print('Output mean relative error:', forwardErr * 100 .. ' %')"
   ]
  },
  {
   "cell_type": "markdown",
   "metadata": {},
   "source": [
    "Gradcheck"
   ]
  },
  {
   "cell_type": "code",
   "execution_count": 174,
   "metadata": {
    "collapsed": false
   },
   "outputs": [
    {
     "data": {
      "text/plain": [
       "50\t\n"
      ]
     },
     "execution_count": 174,
     "metadata": {},
     "output_type": "execute_result"
    },
    {
     "data": {
      "text/plain": [
       "100\t\n"
      ]
     },
     "execution_count": 174,
     "metadata": {},
     "output_type": "execute_result"
    }
   ],
   "source": [
    "Integral = nil\n",
    "debug.getregistry()['Integral'] = nil \n",
    "package.loaded['Integral-c'] = nil\n",
    "package.loaded['Integral-jit'] = nil\n",
    "package.loaded['Integral-jit-multi'] = nil\n",
    "require 'Integral-jit-multi'\n",
    "\n",
    "local nInputCh = 4\n",
    "local nWindows = 6\n",
    "local imSize = 300\n",
    "\n",
    "torch.manualSeed(666)\n",
    "local input = image.convolve(torch.rand(nInputCh, imSize, imSize):pow(3), image.gaussian(imSize / 3), 'same')\n",
    "local target = image.convolve(torch.rand(nInputCh*nWindows, imSize, imSize):pow(3), image.gaussian(imSize / 3), 'same')\n",
    "\n",
    "net = Integral(nWindows, imSize, imSize)\n",
    "local int = net\n",
    "\n",
    "crit = nn.MSECriterion()\n",
    "\n",
    "param = {}\n",
    "loss = {}\n",
    "dL_dParam_nn = {}\n",
    "dL_dParam_diff = {}\n",
    "\n",
    "int.yMin[1] = -60\n",
    "int:recalculateArea()\n",
    "\n",
    "local stepSize = 1\n",
    "\n",
    "for i = 1,100 do\n",
    "    param[i] = int.yMin[1] + i - 1 -- ***************************\n",
    "    loss[i] = -666\n",
    "    dL_dParam_nn[i] = -666\n",
    "    dL_dParam_diff[i] = -666\n",
    "end\n",
    "\n",
    "for i = 1,#param do\n",
    "    net:zeroGradParameters()\n",
    "    int.yMax[1] = param[i] -- ***************************\n",
    "    int:recalculateArea()\n",
    "    \n",
    "    pred = net:forward(input)\n",
    "    currLoss = crit:forward(pred, target)\n",
    "    dLoss_dOutput = crit:backward(pred, target)\n",
    "    net:backward(input, dLoss_dOutput)\n",
    "    \n",
    "    loss[i] = currLoss\n",
    "    dL_dParam_nn[i] = int.gradYMax[1] -- int.gradYMax[1] -- ***************************\n",
    "    collectgarbage()\n",
    "    \n",
    "    if i % 50 == 0 then print(i) end\n",
    "end\n",
    "\n",
    "for i = 1,#param-1 do\n",
    "    dL_dParam_diff[i] = (loss[i+1] - loss[i]) / stepSize\n",
    "end\n",
    "\n",
    "param[#param] = nil\n",
    "dL_dParam_nn[#dL_dParam_nn] = nil\n",
    "dL_dParam_diff[#dL_dParam_diff] = nil\n",
    "loss[#loss] = nil"
   ]
  },
  {
   "cell_type": "code",
   "execution_count": 177,
   "metadata": {
    "collapsed": false
   },
   "outputs": [],
   "source": [
    "require 'gnuplot'\n",
    "\n",
    "gnuplot.figure()\n",
    "gnuplot.plot{\n",
    "    {'manual', torch.Tensor(param), torch.Tensor(dL_dParam_nn), '-'},\n",
    "    {'diff'  , torch.Tensor(param), torch.Tensor(dL_dParam_diff), '-'},\n",
    "--     {'zero'  , torch.Tensor{0, 0}, torch.Tensor{torch.Tensor(dL_dParam_diff):min(), torch.Tensor(dL_dParam_diff):max()}, '-'},\n",
    "--     {'loss'  , torch.Tensor(param), torch.Tensor(loss), '-'},\n",
    "}\n",
    "gnuplot.movelegend('right', 'middle')\n",
    "gnuplot.xlabel('parameter')\n",
    "gnuplot.ylabel('dLoss / dParameter')"
   ]
  },
  {
   "cell_type": "markdown",
   "metadata": {},
   "source": [
    "### Measure execution times\n",
    "\n",
    "Input: 1024x768 image\n",
    "\n",
    "* **Forward** experiment: compute `16x1024x768` feature maps 4 times\n",
    "* **Backward** experiment: do a backprop step (from the \"after `Forward`\" state) 4 times"
   ]
  },
  {
   "cell_type": "markdown",
   "metadata": {},
   "source": [
    "#### Forward\n",
    "\n",
    "* $0.487 \\pm 0.087$ sec. (LuaJIT loop)\n",
    "* $0.358 \\pm 0.019$ sec. (C loop)\n",
    "* $0.321 \\pm 0.037$ sec. (+ precomputed `t,b,l,r`)\n",
    "* $0.165 \\pm 0.058$ sec. (+ parallel)\n",
    "* $0.140 \\pm 0.066$ sec. (+ inline `areaCoeff` multiplication)"
   ]
  },
  {
   "cell_type": "markdown",
   "metadata": {},
   "source": [
    "#### Backward\n",
    "\n",
    "* $2.660 \\pm 0.252$ sec. (LuaJIT)\n",
    "* $1.956 \\pm 0.385$ sec. (C parallel `updGI`)\n",
    "* $1.616 \\pm 0.274$ sec. (+ C gradParam loop, precomputed `t,b,l,r`)\n",
    "* $1.357 \\pm 0.136$ sec. (+ parallelize by deltas -- 2 threads)\n",
    "* $1.991 \\pm 0.358$ sec. (+ parallelize by deltas -- 4 threads)\n",
    "* $1.576 \\pm 0.290$ sec. (+ parallelize by rows)"
   ]
  },
  {
   "cell_type": "code",
   "execution_count": 2,
   "metadata": {
    "collapsed": true
   },
   "outputs": [],
   "source": [
    "h = 768\n",
    "w = 1024\n",
    "nMaps = 16"
   ]
  },
  {
   "cell_type": "code",
   "execution_count": 3,
   "metadata": {
    "collapsed": false
   },
   "outputs": [],
   "source": [
    "int = Integral(16, 768, 1024)\n",
    "params, gradParams = int:getParameters()"
   ]
  },
  {
   "cell_type": "markdown",
   "metadata": {},
   "source": [
    "#### Forward experiment"
   ]
  },
  {
   "cell_type": "code",
   "execution_count": 13,
   "metadata": {
    "collapsed": false,
    "scrolled": true
   },
   "outputs": [
    {
     "data": {
      "text/plain": [
       "0.14028808116913 +/- 0.065786130018442 seconds\t\n"
      ]
     },
     "execution_count": 13,
     "metadata": {},
     "output_type": "execute_result"
    }
   ],
   "source": [
    "img = torch.rand(h, w)\n",
    "local repeats = 4\n",
    "local timeRepeats = 20\n",
    "\n",
    "local times = torch.Tensor(timeRepeats)\n",
    "\n",
    "for timeRepeat = 1,timeRepeats do\n",
    "\n",
    "    local timer = torch.Timer()\n",
    "\n",
    "    for _ = 1,repeats do\n",
    "        int:forward(img)\n",
    "    end\n",
    "\n",
    "    timer:stop()\n",
    "\n",
    "    times[timeRepeat] = timer:time().real\n",
    "    \n",
    "    collectgarbage()\n",
    "    \n",
    "end\n",
    "\n",
    "print(times:mean() .. ' +/- ' .. 2.1 * times:std() .. ' seconds')"
   ]
  },
  {
   "cell_type": "markdown",
   "metadata": {},
   "source": [
    "#### Backward experiment"
   ]
  },
  {
   "cell_type": "code",
   "execution_count": 5,
   "metadata": {
    "collapsed": false
   },
   "outputs": [
    {
     "data": {
      "text/plain": [
       "1.7457907358805 +/- 0.35399270740207 seconds\t\n"
      ]
     },
     "execution_count": 5,
     "metadata": {},
     "output_type": "execute_result"
    }
   ],
   "source": [
    "img = torch.rand(h, w)\n",
    "local repeats = 4\n",
    "local timeRepeats = 15\n",
    "\n",
    "times = torch.Tensor(timeRepeats)\n",
    "\n",
    "int:forward(img)\n",
    "int:backward(img, int.output)\n",
    "\n",
    "for timeRepeat = 1,timeRepeats do\n",
    "\n",
    "    local timer = torch.Timer()\n",
    "\n",
    "    for _ = 1,repeats do\n",
    "        int:backward(img, int.output)\n",
    "    end\n",
    "\n",
    "    timer:stop()\n",
    "\n",
    "    times[timeRepeat] = timer:time().real\n",
    "    \n",
    "    collectgarbage()\n",
    "    \n",
    "end\n",
    "\n",
    "print(times:mean() .. ' +/- ' .. 2.1 * times:std() .. ' seconds')"
   ]
  },
  {
   "cell_type": "code",
   "execution_count": null,
   "metadata": {
    "collapsed": true
   },
   "outputs": [],
   "source": []
  }
 ],
 "metadata": {
  "kernelspec": {
   "display_name": "iTorch",
   "language": "lua",
   "name": "itorch"
  },
  "language_info": {
   "name": "lua",
   "version": "5.1"
  }
 },
 "nbformat": 4,
 "nbformat_minor": 1
}
